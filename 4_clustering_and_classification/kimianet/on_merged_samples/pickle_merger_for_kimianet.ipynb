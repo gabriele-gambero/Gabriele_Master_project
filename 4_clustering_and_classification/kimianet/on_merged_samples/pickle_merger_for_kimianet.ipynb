{
 "cells": [
  {
   "cell_type": "markdown",
   "metadata": {},
   "source": [
    "This notebook is used to just merge all the `.pickle` files for the feature extraction model."
   ]
  },
  {
   "cell_type": "markdown",
   "metadata": {},
   "source": [
    "---\n",
    "# 0. - Imports and paths"
   ]
  },
  {
   "cell_type": "code",
   "execution_count": 2,
   "metadata": {},
   "outputs": [],
   "source": [
    "import os\n",
    "import pandas as pd\n",
    "import matplotlib.font_manager as fm\n",
    "%matplotlib inline\n",
    "import matplotlib.pyplot as plt\n",
    "import pickle\n",
    "import numpy as np\n",
    "import re\n",
    "from collections import defaultdict"
   ]
  },
  {
   "cell_type": "code",
   "execution_count": 3,
   "metadata": {},
   "outputs": [
    {
     "name": "stdout",
     "output_type": "stream",
     "text": [
      "/disk2/work/gabgam/gigi_env/the_project/4_clustering_and_classification\n"
     ]
    }
   ],
   "source": [
    "os.chdir(\"/disk2/user/gabgam/work/gigi_env/the_project/4_clustering_and_classification/\")\n",
    "print(os.getcwd())"
   ]
  },
  {
   "cell_type": "code",
   "execution_count": 4,
   "metadata": {},
   "outputs": [],
   "source": [
    "# Fetch DM Sans font file from https://github.com/google/fonts/blob/main/ofl/dmsans/DMSans%5Bopsz%2Cwght%5D.ttf or, better, https://fonts.google.com/specimen/DM+Sans\n",
    "font_path = \"../fonts/static/DMSans-Medium.ttf\" \n",
    "\n",
    "# Add font to matplotlib\n",
    "try:\n",
    "    fm.fontManager.addfont(font_path)\n",
    "    plt.rcParams['font.family'] = 'DM Sans'\n",
    "except RuntimeError as e:\n",
    "    print(f\"Failed to load font: {e}\")\n",
    "\n",
    "# sns.set_theme(font_scale=1.5, style=\"whitegrid\")\n",
    "# biomodal_palette = [\"#9CDBD9\", \"#C0DF16\",\"#003B49\",\"#05868E\", \"#ABAD9A\", \"#F87C56\",\"#00DAEF\",\"#50B37B\"]\n",
    "# sns.set_palette(biomodal_palette)"
   ]
  },
  {
   "cell_type": "code",
   "execution_count": 5,
   "metadata": {},
   "outputs": [],
   "source": [
    "# # Test plot\n",
    "# plt.figure(figsize=(6, 4))\n",
    "# plt.title(\"Test Plot with DM Sans Font μ\", fontsize=16)\n",
    "# plt.plot([1, 2, 3], [4, 6, 8])\n",
    "# plt.show()"
   ]
  },
  {
   "cell_type": "code",
   "execution_count": 6,
   "metadata": {},
   "outputs": [],
   "source": [
    "model = \"kimianet\""
   ]
  },
  {
   "cell_type": "code",
   "execution_count": 7,
   "metadata": {},
   "outputs": [],
   "source": [
    "# PATH_TO_SAVED_FEATURES = f\"../3_features_extraction/output/{model}/satac_C1_v3_allspots_&_visium_2022_FF_WG_10X_img_not_changed_allspots/\" # must end with \"/\"\n",
    "PATH_TO_SAVED_FEATURES = f\"../3_features_extraction/output/{model}/satac_C1_v3_allspots_&_visium_FFPE_dcis_idc_10X_img_not_changed_allspots/\" # must end with \"/\""
   ]
  },
  {
   "cell_type": "code",
   "execution_count": 8,
   "metadata": {},
   "outputs": [
    {
     "name": "stdout",
     "output_type": "stream",
     "text": [
      "output/kimianet/satac_C1_v3_allspots_&_visium_FFPE_dcis_idc_10X_img_not_changed_allspots/\n"
     ]
    }
   ],
   "source": [
    "if PATH_TO_SAVED_FEATURES.endswith(\"/\"):\n",
    "    path_to_paired_pickles = f\"output/{model}/{PATH_TO_SAVED_FEATURES.split('/')[-2]}/\"\n",
    "    print(path_to_paired_pickles)\n",
    "else:\n",
    "    print(\"Adapt the path string to the correct format (must ends with \\\"/\\\").\")\n",
    "\n",
    "os.makedirs(path_to_paired_pickles, exist_ok=True)"
   ]
  },
  {
   "cell_type": "code",
   "execution_count": 9,
   "metadata": {},
   "outputs": [],
   "source": [
    "# path to the target image\n",
    "PATH_TO_REFERENCE = \"../2_image_normalisation/reference_images/reference_full.jpeg\"\n",
    "# `TARGET_IS_<filename>`\n",
    "TARGET_IS = \"target_is_reference_full\""
   ]
  },
  {
   "cell_type": "markdown",
   "metadata": {},
   "source": [
    "# 1. - Merging the extracted features per normalisation method"
   ]
  },
  {
   "cell_type": "markdown",
   "metadata": {},
   "source": [
    "First of all, let's see all the `.pickle` files inside the folder of the saved features."
   ]
  },
  {
   "cell_type": "code",
   "execution_count": 10,
   "metadata": {},
   "outputs": [
    {
     "name": "stdout",
     "output_type": "stream",
     "text": [
      "16 .pickle files inside the folder.\n",
      "\n",
      "['satac_C1_&_v3_allspots_&_target_is_reference_full_100um_ORIGINAL WSI_width1000.pickle', 'satac_C1_&_v3_allspots_&_target_is_reference_full_100um_fromWSI_histomicsTK_macenko_nomasking_width1000.pickle', 'satac_C1_&_v3_allspots_&_target_is_reference_full_100um_histomicsTK_macenko_nomasking_width1000.pickle', 'satac_C1_&_v3_allspots_&_target_is_reference_full_100um_stainNET_width1000.pickle', 'satac_C1_&_v3_allspots_&_target_is_reference_full_68um_ORIGINAL WSI_width1000.pickle', 'satac_C1_&_v3_allspots_&_target_is_reference_full_68um_fromWSI_histomicsTK_macenko_nomasking_width1000.pickle', 'satac_C1_&_v3_allspots_&_target_is_reference_full_68um_histomicsTK_macenko_nomasking_width1000.pickle', 'satac_C1_&_v3_allspots_&_target_is_reference_full_68um_stainNET_width1000.pickle', 'visium_FFPE_dcis_idc_10X_&_img_not_changed_allspots_&_target_is_reference_full_100um_ORIGINAL WSI_width1000.pickle', 'visium_FFPE_dcis_idc_10X_&_img_not_changed_allspots_&_target_is_reference_full_100um_fromWSI_histomicsTK_macenko_nomasking_width1000.pickle', 'visium_FFPE_dcis_idc_10X_&_img_not_changed_allspots_&_target_is_reference_full_100um_histomicsTK_macenko_nomasking_width1000.pickle', 'visium_FFPE_dcis_idc_10X_&_img_not_changed_allspots_&_target_is_reference_full_100um_stainNET_width1000.pickle', 'visium_FFPE_dcis_idc_10X_&_img_not_changed_allspots_&_target_is_reference_full_68um_ORIGINAL WSI_width1000.pickle', 'visium_FFPE_dcis_idc_10X_&_img_not_changed_allspots_&_target_is_reference_full_68um_fromWSI_histomicsTK_macenko_nomasking_width1000.pickle', 'visium_FFPE_dcis_idc_10X_&_img_not_changed_allspots_&_target_is_reference_full_68um_histomicsTK_macenko_nomasking_width1000.pickle', 'visium_FFPE_dcis_idc_10X_&_img_not_changed_allspots_&_target_is_reference_full_68um_stainNET_width1000.pickle']\n"
     ]
    }
   ],
   "source": [
    "# all_pickles = [i for i in os.listdir(PATH_TO_SAVED_FEATURES) if i.endswith(\".pickle\")]\n",
    "all_pickles = [i for i in os.listdir(PATH_TO_SAVED_FEATURES) if i.endswith(\"_width1000.pickle\")]\n",
    "\n",
    "print(f\"{len(all_pickles)} .pickle files inside the folder.\\n\")\n",
    "print(all_pickles)"
   ]
  },
  {
   "cell_type": "markdown",
   "metadata": {},
   "source": [
    "## 1.1 - Merging (sATAC + Visium ST)"
   ]
  },
  {
   "cell_type": "code",
   "execution_count": 11,
   "metadata": {},
   "outputs": [
    {
     "name": "stderr",
     "output_type": "stream",
     "text": [
      "/disk2/user/gabgam/miniconda3/envs/cluster_n_class/lib/python3.9/site-packages/tqdm/auto.py:21: TqdmWarning: IProgress not found. Please update jupyter and ipywidgets. See https://ipywidgets.readthedocs.io/en/stable/user_install.html\n",
      "  from .autonotebook import tqdm as notebook_tqdm\n"
     ]
    },
    {
     "name": "stdout",
     "output_type": "stream",
     "text": [
      "Processing pair:\n",
      "SATAC: satac_C1_&_v3_allspots_&_target_is_reference_full_100um_ORIGINAL WSI_width1000.pickle\n",
      "VISIUM: visium_FFPE_dcis_idc_10X_&_img_not_changed_allspots_&_target_is_reference_full_100um_ORIGINAL WSI_width1000.pickle\n",
      "\n",
      "Saved merged file: output/kimianet/satac_C1_v3_allspots_&_visium_FFPE_dcis_idc_10X_img_not_changed_allspots/MERGED_satac_C1_&_v3_allspots__&__visium_FFPE_dcis_idc_10X_&_img_not_changed_allspots__for__target_is_reference_full_100um_ORIGINAL WSI_width1000.pickle\n",
      "\n",
      "Processing pair:\n",
      "SATAC: satac_C1_&_v3_allspots_&_target_is_reference_full_100um_fromWSI_histomicsTK_macenko_nomasking_width1000.pickle\n",
      "VISIUM: visium_FFPE_dcis_idc_10X_&_img_not_changed_allspots_&_target_is_reference_full_100um_fromWSI_histomicsTK_macenko_nomasking_width1000.pickle\n",
      "\n",
      "Saved merged file: output/kimianet/satac_C1_v3_allspots_&_visium_FFPE_dcis_idc_10X_img_not_changed_allspots/MERGED_satac_C1_&_v3_allspots__&__visium_FFPE_dcis_idc_10X_&_img_not_changed_allspots__for__target_is_reference_full_100um_fromWSI_histomicsTK_macenko_nomasking_width1000.pickle\n",
      "\n",
      "Processing pair:\n",
      "SATAC: satac_C1_&_v3_allspots_&_target_is_reference_full_100um_histomicsTK_macenko_nomasking_width1000.pickle\n",
      "VISIUM: visium_FFPE_dcis_idc_10X_&_img_not_changed_allspots_&_target_is_reference_full_100um_histomicsTK_macenko_nomasking_width1000.pickle\n",
      "\n",
      "Saved merged file: output/kimianet/satac_C1_v3_allspots_&_visium_FFPE_dcis_idc_10X_img_not_changed_allspots/MERGED_satac_C1_&_v3_allspots__&__visium_FFPE_dcis_idc_10X_&_img_not_changed_allspots__for__target_is_reference_full_100um_histomicsTK_macenko_nomasking_width1000.pickle\n",
      "\n",
      "Processing pair:\n",
      "SATAC: satac_C1_&_v3_allspots_&_target_is_reference_full_100um_stainNET_width1000.pickle\n",
      "VISIUM: visium_FFPE_dcis_idc_10X_&_img_not_changed_allspots_&_target_is_reference_full_100um_stainNET_width1000.pickle\n",
      "\n",
      "Saved merged file: output/kimianet/satac_C1_v3_allspots_&_visium_FFPE_dcis_idc_10X_img_not_changed_allspots/MERGED_satac_C1_&_v3_allspots__&__visium_FFPE_dcis_idc_10X_&_img_not_changed_allspots__for__target_is_reference_full_100um_stainNET_width1000.pickle\n",
      "\n",
      "Processing pair:\n",
      "SATAC: satac_C1_&_v3_allspots_&_target_is_reference_full_68um_ORIGINAL WSI_width1000.pickle\n",
      "VISIUM: visium_FFPE_dcis_idc_10X_&_img_not_changed_allspots_&_target_is_reference_full_68um_ORIGINAL WSI_width1000.pickle\n",
      "\n",
      "Saved merged file: output/kimianet/satac_C1_v3_allspots_&_visium_FFPE_dcis_idc_10X_img_not_changed_allspots/MERGED_satac_C1_&_v3_allspots__&__visium_FFPE_dcis_idc_10X_&_img_not_changed_allspots__for__target_is_reference_full_68um_ORIGINAL WSI_width1000.pickle\n",
      "\n",
      "Processing pair:\n",
      "SATAC: satac_C1_&_v3_allspots_&_target_is_reference_full_68um_fromWSI_histomicsTK_macenko_nomasking_width1000.pickle\n",
      "VISIUM: visium_FFPE_dcis_idc_10X_&_img_not_changed_allspots_&_target_is_reference_full_68um_fromWSI_histomicsTK_macenko_nomasking_width1000.pickle\n",
      "\n",
      "Saved merged file: output/kimianet/satac_C1_v3_allspots_&_visium_FFPE_dcis_idc_10X_img_not_changed_allspots/MERGED_satac_C1_&_v3_allspots__&__visium_FFPE_dcis_idc_10X_&_img_not_changed_allspots__for__target_is_reference_full_68um_fromWSI_histomicsTK_macenko_nomasking_width1000.pickle\n",
      "\n",
      "Processing pair:\n",
      "SATAC: satac_C1_&_v3_allspots_&_target_is_reference_full_68um_histomicsTK_macenko_nomasking_width1000.pickle\n",
      "VISIUM: visium_FFPE_dcis_idc_10X_&_img_not_changed_allspots_&_target_is_reference_full_68um_histomicsTK_macenko_nomasking_width1000.pickle\n",
      "\n",
      "Saved merged file: output/kimianet/satac_C1_v3_allspots_&_visium_FFPE_dcis_idc_10X_img_not_changed_allspots/MERGED_satac_C1_&_v3_allspots__&__visium_FFPE_dcis_idc_10X_&_img_not_changed_allspots__for__target_is_reference_full_68um_histomicsTK_macenko_nomasking_width1000.pickle\n",
      "\n",
      "Processing pair:\n",
      "SATAC: satac_C1_&_v3_allspots_&_target_is_reference_full_68um_stainNET_width1000.pickle\n",
      "VISIUM: visium_FFPE_dcis_idc_10X_&_img_not_changed_allspots_&_target_is_reference_full_68um_stainNET_width1000.pickle\n",
      "\n",
      "Saved merged file: output/kimianet/satac_C1_v3_allspots_&_visium_FFPE_dcis_idc_10X_img_not_changed_allspots/MERGED_satac_C1_&_v3_allspots__&__visium_FFPE_dcis_idc_10X_&_img_not_changed_allspots__for__target_is_reference_full_68um_stainNET_width1000.pickle\n",
      "\n"
     ]
    }
   ],
   "source": [
    "from utils_clust_n_class import load_pickle_as_df, save_pickle\n",
    "\n",
    "# Dictionary to store files by (tile size, normalization method, target name)\n",
    "grouped_files = defaultdict(dict)\n",
    "\n",
    "# Regular expression to extract dataset, tile size, normalization method, and ensure the target name is \"target_is_reference_full\"\n",
    "pattern = re.compile(rf'(satac|visium).*?_{TARGET_IS}_(\\d+um)_(.*)\\.pickle')\n",
    "\n",
    "for file in all_pickles:\n",
    "    match = pattern.search(file)\n",
    "    if match:\n",
    "        dataset, tile_size, method = match.groups()\n",
    "        grouped_files[(tile_size, method)][dataset] = file\n",
    "\n",
    "\n",
    "# Process and merge pairs\n",
    "for (tile_size, method), group in grouped_files.items():\n",
    "    if 'satac' in group and 'visium' in group:\n",
    "        satac_file = group['satac']\n",
    "        visium_file = group['visium']\n",
    "\n",
    "        print(f\"Processing pair:\\nSATAC: {satac_file}\\nVISIUM: {visium_file}\\n\")\n",
    "\n",
    "        # Load both files as DataFrames and invert them before merging based on coloumns\n",
    "        satac_df = load_pickle_as_df(os.path.join(PATH_TO_SAVED_FEATURES, satac_file)).T\n",
    "        visium_df = load_pickle_as_df(os.path.join(PATH_TO_SAVED_FEATURES, visium_file)).T\n",
    "\n",
    "        # Merge DataFrames (concatenation)\n",
    "        merged_df = pd.concat([satac_df, visium_df], axis = 0)\n",
    "        \n",
    "        # Construct the merged filename\n",
    "        satac_base = \"_&_\".join(os.path.splitext(satac_file)[0].split(\"_&_\")[:2]) # extracting the satac name\n",
    "        visium_base = \"_&_\".join(os.path.splitext(visium_file)[0].split(\"_&_\")[:2]) # extracting the visium name\n",
    "        normalisation_method = os.path.splitext(satac_file)[0].split(\"_&_\")[-1] # extracting the target name and normalisation method\n",
    "        \n",
    "        MERGED_NAME = f\"MERGED_{satac_base}__&__{visium_base}__for__{normalisation_method}.pickle\"\n",
    "        \n",
    "        \n",
    "        # Define output filename\n",
    "        output_file = os.path.join(path_to_paired_pickles, MERGED_NAME)\n",
    "\n",
    "        # Save the merged DataFrame\n",
    "        save_pickle(merged_df, output_file)\n",
    "        print(f\"Saved merged file: {output_file}\\n\")"
   ]
  },
  {
   "cell_type": "markdown",
   "metadata": {},
   "source": [
    "Let's visualise the names."
   ]
  },
  {
   "cell_type": "code",
   "execution_count": 12,
   "metadata": {},
   "outputs": [
    {
     "name": "stdout",
     "output_type": "stream",
     "text": [
      "['MERGED_satac_C1_&_v3_allspots__&__visium_FFPE_dcis_idc_10X_&_img_not_changed_allspots__for__target_is_reference_full_100um_ORIGINAL WSI_width1000.pickle', 'MERGED_satac_C1_&_v3_allspots__&__visium_FFPE_dcis_idc_10X_&_img_not_changed_allspots__for__target_is_reference_full_100um_fromWSI_histomicsTK_macenko_nomasking_width1000.pickle', 'MERGED_satac_C1_&_v3_allspots__&__visium_FFPE_dcis_idc_10X_&_img_not_changed_allspots__for__target_is_reference_full_100um_histomicsTK_macenko_nomasking_width1000.pickle', 'MERGED_satac_C1_&_v3_allspots__&__visium_FFPE_dcis_idc_10X_&_img_not_changed_allspots__for__target_is_reference_full_100um_stainNET_width1000.pickle', 'MERGED_satac_C1_&_v3_allspots__&__visium_FFPE_dcis_idc_10X_&_img_not_changed_allspots__for__target_is_reference_full_68um_ORIGINAL WSI_width1000.pickle', 'MERGED_satac_C1_&_v3_allspots__&__visium_FFPE_dcis_idc_10X_&_img_not_changed_allspots__for__target_is_reference_full_68um_fromWSI_histomicsTK_macenko_nomasking_width1000.pickle', 'MERGED_satac_C1_&_v3_allspots__&__visium_FFPE_dcis_idc_10X_&_img_not_changed_allspots__for__target_is_reference_full_68um_histomicsTK_macenko_nomasking_width1000.pickle', 'MERGED_satac_C1_&_v3_allspots__&__visium_FFPE_dcis_idc_10X_&_img_not_changed_allspots__for__target_is_reference_full_68um_stainNET_width1000.pickle']\n"
     ]
    }
   ],
   "source": [
    "print([i for i in os.listdir(path_to_paired_pickles)])"
   ]
  }
 ],
 "metadata": {
  "kernelspec": {
   "display_name": "cluster_n_class",
   "language": "python",
   "name": "python3"
  },
  "language_info": {
   "codemirror_mode": {
    "name": "ipython",
    "version": 3
   },
   "file_extension": ".py",
   "mimetype": "text/x-python",
   "name": "python",
   "nbconvert_exporter": "python",
   "pygments_lexer": "ipython3",
   "version": "3.9.21"
  }
 },
 "nbformat": 4,
 "nbformat_minor": 2
}
