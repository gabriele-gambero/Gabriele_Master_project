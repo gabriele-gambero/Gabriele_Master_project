{
 "cells": [
  {
   "cell_type": "markdown",
   "metadata": {},
   "source": [
    "Remember to update BEDTools:\n",
    "```sh\n",
    "conda install -c bioconda bedtools\n",
    "```"
   ]
  },
  {
   "cell_type": "code",
   "execution_count": 1,
   "metadata": {},
   "outputs": [],
   "source": [
    "import h5py\n",
    "import scipy.sparse as sp\n",
    "import numpy as np\n",
    "import os\n",
    "import pandas as pd\n",
    "import pybedtools\n"
   ]
  },
  {
   "cell_type": "code",
   "execution_count": 2,
   "metadata": {},
   "outputs": [
    {
     "name": "stdout",
     "output_type": "stream",
     "text": [
      "/disk2/user/gabgam/the_project/5_integration_and_correlation\n"
     ]
    }
   ],
   "source": [
    "os.chdir(\"/disk2/user/gabgam/the_project/5_integration_and_correlation/\")\n",
    "print(os.getcwd())"
   ]
  },
  {
   "cell_type": "code",
   "execution_count": 9,
   "metadata": {},
   "outputs": [],
   "source": [
    "# Load the file\n",
    "file_path = \"../data/spatial_atac/combined/counts_brca_satac.h5\"\n",
    "f = h5py.File(file_path, 'r')"
   ]
  },
  {
   "cell_type": "code",
   "execution_count": 11,
   "metadata": {},
   "outputs": [
    {
     "data": {
      "text/plain": [
       "<KeysViewHDF5 ['barcodes', 'data', 'gene_names', 'genes', 'indices', 'indptr', 'shape']>"
      ]
     },
     "execution_count": 11,
     "metadata": {},
     "output_type": "execute_result"
    }
   ],
   "source": [
    "temp = f['unknown']\n",
    "temp.keys()"
   ]
  },
  {
   "cell_type": "code",
   "execution_count": 16,
   "metadata": {},
   "outputs": [
    {
     "data": {
      "text/plain": [
       "FeatureBCMatrix(ids=array([b'chr1-975451-975952', b'chr1-1014228-1014729',\n",
       "       b'chr1-1290080-1290581', ..., b'chrX-155612714-155613215',\n",
       "       b'chrX-155767373-155767874', b'chrX-155881033-155881534'],\n",
       "      dtype='|S25'), names=array([b'chr1-975451-975952', b'chr1-1014228-1014729',\n",
       "       b'chr1-1290080-1290581', ..., b'chrX-155612714-155613215',\n",
       "       b'chrX-155767373-155767874', b'chrX-155881033-155881534'],\n",
       "      dtype='|S25'), barcodes=array([b'AAACAAGGGATCAAAT-1_1', b'AAACAGCAGTCTGCTA-1_1',\n",
       "       b'AAACATTCGGGATTCT-1_1', ..., b'TTGTTGTGCCCTTGAA-1_3',\n",
       "       b'TTGTTGTGGAGACAGT-1_3', b'TTGTTTCATTACGCTT-1_3'], dtype='|S20'), matrix=<215978x9866 sparse matrix of type '<class 'numpy.float64'>'\n",
       "\twith 11091248 stored elements in Compressed Sparse Column format>)"
      ]
     },
     "execution_count": 16,
     "metadata": {},
     "output_type": "execute_result"
    }
   ],
   "source": [
    "import collections\n",
    "import scipy.sparse as sp_sparse\n",
    "import tables\n",
    "\n",
    "FeatureBCMatrix = collections.namedtuple('FeatureBCMatrix', ['ids', 'names', 'barcodes', 'matrix'])\n",
    "\n",
    "def get_matrix_from_h5(filename):\n",
    "    with tables.open_file(filename, 'r') as f:\n",
    "        try:\n",
    "            group = f.get_node(f.root, 'unknown')\n",
    "        except tables.NoSuchNodeError:\n",
    "            print(\"Matrix group does not exist in this file.\")\n",
    "            return None\n",
    "        #feature_group = getattr(group, 'features').read()\n",
    "        ids = getattr(group, 'genes').read()\n",
    "        names = getattr(group, 'gene_names').read()\n",
    "        barcodes = getattr(group, 'barcodes').read()\n",
    "        data = getattr(group, 'data').read()\n",
    "        indices = getattr(group, 'indices').read()\n",
    "        indptr = getattr(group, 'indptr').read()\n",
    "        shape = getattr(group, 'shape').read()\n",
    "        matrix = sp_sparse.csc_matrix((data, indices, indptr), shape=shape)\n",
    "        return FeatureBCMatrix(ids, names, barcodes, matrix)\n",
    "\n",
    "\n",
    "\n",
    "tf_bc_matrix = get_matrix_from_h5(file_path)\n",
    "tf_bc_matrix\n"
   ]
  },
  {
   "cell_type": "code",
   "execution_count": 18,
   "metadata": {},
   "outputs": [
    {
     "ename": "AttributeError",
     "evalue": "'FeatureBCMatrix' object has no attribute 'read'",
     "output_type": "error",
     "traceback": [
      "\u001b[0;31m---------------------------------------------------------------------------\u001b[0m",
      "\u001b[0;31mAttributeError\u001b[0m                            Traceback (most recent call last)",
      "Cell \u001b[0;32mIn[18], line 1\u001b[0m\n\u001b[0;32m----> 1\u001b[0m \u001b[43mtf_bc_matrix\u001b[49m\u001b[38;5;241;43m.\u001b[39;49m\u001b[43mread\u001b[49m()\n",
      "\u001b[0;31mAttributeError\u001b[0m: 'FeatureBCMatrix' object has no attribute 'read'"
     ]
    }
   ],
   "source": [
    "tf_bc_matrix.read()"
   ]
  },
  {
   "cell_type": "code",
   "execution_count": 10,
   "metadata": {},
   "outputs": [
    {
     "data": {
      "text/plain": [
       "['unknown']"
      ]
     },
     "execution_count": 10,
     "metadata": {},
     "output_type": "execute_result"
    }
   ],
   "source": [
    "list(f.keys())"
   ]
  },
  {
   "cell_type": "code",
   "execution_count": 52,
   "metadata": {},
   "outputs": [
    {
     "data": {
      "text/plain": [
       "ValuesViewHDF5(<HDF5 group \"/unknown\" (7 members)>)"
      ]
     },
     "execution_count": 52,
     "metadata": {},
     "output_type": "execute_result"
    }
   ],
   "source": [
    "temp.values()"
   ]
  },
  {
   "cell_type": "code",
   "execution_count": 13,
   "metadata": {},
   "outputs": [
    {
     "data": {
      "text/plain": [
       "array([b'chr1-975451-975952', b'chr1-1014228-1014729',\n",
       "       b'chr1-1290080-1290581', ..., b'chrX-155612714-155613215',\n",
       "       b'chrX-155767373-155767874', b'chrX-155881033-155881534'],\n",
       "      dtype='|S25')"
      ]
     },
     "execution_count": 13,
     "metadata": {},
     "output_type": "execute_result"
    }
   ],
   "source": [
    "f['unknown']['genes'][:]"
   ]
  },
  {
   "cell_type": "code",
   "execution_count": 54,
   "metadata": {},
   "outputs": [
    {
     "data": {
      "text/plain": [
       "array([215978,   9866], dtype=int32)"
      ]
     },
     "execution_count": 54,
     "metadata": {},
     "output_type": "execute_result"
    }
   ],
   "source": [
    "f['unknown']['shape'][:]"
   ]
  },
  {
   "cell_type": "code",
   "execution_count": 55,
   "metadata": {},
   "outputs": [],
   "source": [
    "with h5py.File(file_path, \"r\") as h5_file:\n",
    "    barcodes = np.array(h5_file[\"unknown/barcodes\"]).astype(str)\n",
    "    peaks = np.array(h5_file[\"unknown/gene_names\"]).astype(str)  # Actually chromatin regions\n",
    "    data = np.array(h5_file[\"unknown/data\"])\n",
    "    indices = np.array(h5_file[\"unknown/indices\"])\n",
    "    indptr = np.array(h5_file[\"unknown/indptr\"])\n",
    "    shape = (len(barcodes), len(peaks))  # Correct shape order\n",
    "\n",
    "counts_matrix = sp.csr_matrix((data, indices, indptr), shape=shape)\n"
   ]
  },
  {
   "cell_type": "code",
   "execution_count": 56,
   "metadata": {},
   "outputs": [],
   "source": [
    "# Read gene annotations\n",
    "refgene = pd.read_csv(\"utils/refGene.txt\", sep=\"\\t\", header=None)\n",
    "refgene = refgene[[2, 4, 5, 12]]  # Keep chr, start, end, gene_name\n",
    "refgene.columns = [\"chr\", \"start\", \"end\", \"gene_name\"]\n",
    "refgene[\"chr\"] = \"chr\" + refgene[\"chr\"].astype(str)  # Format chromosomes"
   ]
  },
  {
   "cell_type": "code",
   "execution_count": 57,
   "metadata": {},
   "outputs": [
    {
     "data": {
      "text/plain": [
       "array(['chr1-975451-975952', 'chr1-1014228-1014729',\n",
       "       'chr1-1290080-1290581', ..., 'chrX-155612714-155613215',\n",
       "       'chrX-155767373-155767874', 'chrX-155881033-155881534'],\n",
       "      dtype='<U25')"
      ]
     },
     "execution_count": 57,
     "metadata": {},
     "output_type": "execute_result"
    }
   ],
   "source": [
    "peaks"
   ]
  },
  {
   "cell_type": "code",
   "execution_count": 58,
   "metadata": {},
   "outputs": [],
   "source": [
    "\n",
    "# Convert ATAC peaks to BED format\n",
    "peaks_df = pd.DataFrame([[p.split(\"-\")[0], str(p.split(\"-\")[1]+\"-\"+p.split(\"-\")[2])] for p in peaks], columns=[\"chr\", \"pos\"])\n",
    "peaks_df[[\"start\", \"end\"]] = peaks_df[\"pos\"].str.split(\"-\", expand=True)\n",
    "peaks_df = peaks_df.drop(columns=[\"pos\"])\n",
    "peaks_df[\"start\"] = peaks_df[\"start\"].astype(int)\n",
    "peaks_df[\"end\"] = peaks_df[\"end\"].astype(int)\n",
    "\n",
    "# Convert to BedTool objects\n",
    "peaks_bed = pybedtools.BedTool.from_dataframe(peaks_df).sort()\n",
    "genes_bed = pybedtools.BedTool.from_dataframe(refgene).sort()\n"
   ]
  },
  {
   "cell_type": "code",
   "execution_count": 59,
   "metadata": {},
   "outputs": [
    {
     "data": {
      "text/html": [
       "<div>\n",
       "<style scoped>\n",
       "    .dataframe tbody tr th:only-of-type {\n",
       "        vertical-align: middle;\n",
       "    }\n",
       "\n",
       "    .dataframe tbody tr th {\n",
       "        vertical-align: top;\n",
       "    }\n",
       "\n",
       "    .dataframe thead th {\n",
       "        text-align: right;\n",
       "    }\n",
       "</style>\n",
       "<table border=\"1\" class=\"dataframe\">\n",
       "  <thead>\n",
       "    <tr style=\"text-align: right;\">\n",
       "      <th></th>\n",
       "      <th>peak_chr</th>\n",
       "      <th>peak_start</th>\n",
       "      <th>peak_end</th>\n",
       "      <th>gene_chr</th>\n",
       "      <th>gene_start</th>\n",
       "      <th>gene_end</th>\n",
       "      <th>gene_name</th>\n",
       "      <th>distance</th>\n",
       "    </tr>\n",
       "  </thead>\n",
       "  <tbody>\n",
       "    <tr>\n",
       "      <th>0</th>\n",
       "      <td>chr1</td>\n",
       "      <td>9872</td>\n",
       "      <td>10373</td>\n",
       "      <td>.</td>\n",
       "      <td>-1</td>\n",
       "      <td>-1</td>\n",
       "      <td>.</td>\n",
       "      <td>-1</td>\n",
       "    </tr>\n",
       "    <tr>\n",
       "      <th>1</th>\n",
       "      <td>chr1</td>\n",
       "      <td>17232</td>\n",
       "      <td>17733</td>\n",
       "      <td>.</td>\n",
       "      <td>-1</td>\n",
       "      <td>-1</td>\n",
       "      <td>.</td>\n",
       "      <td>-1</td>\n",
       "    </tr>\n",
       "    <tr>\n",
       "      <th>2</th>\n",
       "      <td>chr1</td>\n",
       "      <td>180632</td>\n",
       "      <td>181133</td>\n",
       "      <td>.</td>\n",
       "      <td>-1</td>\n",
       "      <td>-1</td>\n",
       "      <td>.</td>\n",
       "      <td>-1</td>\n",
       "    </tr>\n",
       "    <tr>\n",
       "      <th>3</th>\n",
       "      <td>chr1</td>\n",
       "      <td>181205</td>\n",
       "      <td>181706</td>\n",
       "      <td>.</td>\n",
       "      <td>-1</td>\n",
       "      <td>-1</td>\n",
       "      <td>.</td>\n",
       "      <td>-1</td>\n",
       "    </tr>\n",
       "    <tr>\n",
       "      <th>4</th>\n",
       "      <td>chr1</td>\n",
       "      <td>183555</td>\n",
       "      <td>184056</td>\n",
       "      <td>.</td>\n",
       "      <td>-1</td>\n",
       "      <td>-1</td>\n",
       "      <td>.</td>\n",
       "      <td>-1</td>\n",
       "    </tr>\n",
       "    <tr>\n",
       "      <th>...</th>\n",
       "      <td>...</td>\n",
       "      <td>...</td>\n",
       "      <td>...</td>\n",
       "      <td>...</td>\n",
       "      <td>...</td>\n",
       "      <td>...</td>\n",
       "      <td>...</td>\n",
       "      <td>...</td>\n",
       "    </tr>\n",
       "    <tr>\n",
       "      <th>215973</th>\n",
       "      <td>chrY</td>\n",
       "      <td>56870726</td>\n",
       "      <td>56871227</td>\n",
       "      <td>.</td>\n",
       "      <td>-1</td>\n",
       "      <td>-1</td>\n",
       "      <td>.</td>\n",
       "      <td>-1</td>\n",
       "    </tr>\n",
       "    <tr>\n",
       "      <th>215974</th>\n",
       "      <td>chrY</td>\n",
       "      <td>56871262</td>\n",
       "      <td>56871763</td>\n",
       "      <td>.</td>\n",
       "      <td>-1</td>\n",
       "      <td>-1</td>\n",
       "      <td>.</td>\n",
       "      <td>-1</td>\n",
       "    </tr>\n",
       "    <tr>\n",
       "      <th>215975</th>\n",
       "      <td>chrY</td>\n",
       "      <td>56872688</td>\n",
       "      <td>56873189</td>\n",
       "      <td>.</td>\n",
       "      <td>-1</td>\n",
       "      <td>-1</td>\n",
       "      <td>.</td>\n",
       "      <td>-1</td>\n",
       "    </tr>\n",
       "    <tr>\n",
       "      <th>215976</th>\n",
       "      <td>chrY</td>\n",
       "      <td>56873413</td>\n",
       "      <td>56873914</td>\n",
       "      <td>.</td>\n",
       "      <td>-1</td>\n",
       "      <td>-1</td>\n",
       "      <td>.</td>\n",
       "      <td>-1</td>\n",
       "    </tr>\n",
       "    <tr>\n",
       "      <th>215977</th>\n",
       "      <td>chrY</td>\n",
       "      <td>56873944</td>\n",
       "      <td>56874445</td>\n",
       "      <td>.</td>\n",
       "      <td>-1</td>\n",
       "      <td>-1</td>\n",
       "      <td>.</td>\n",
       "      <td>-1</td>\n",
       "    </tr>\n",
       "  </tbody>\n",
       "</table>\n",
       "<p>215978 rows × 8 columns</p>\n",
       "</div>"
      ],
      "text/plain": [
       "       peak_chr  peak_start  peak_end gene_chr  gene_start  gene_end  \\\n",
       "0          chr1        9872     10373        .          -1        -1   \n",
       "1          chr1       17232     17733        .          -1        -1   \n",
       "2          chr1      180632    181133        .          -1        -1   \n",
       "3          chr1      181205    181706        .          -1        -1   \n",
       "4          chr1      183555    184056        .          -1        -1   \n",
       "...         ...         ...       ...      ...         ...       ...   \n",
       "215973     chrY    56870726  56871227        .          -1        -1   \n",
       "215974     chrY    56871262  56871763        .          -1        -1   \n",
       "215975     chrY    56872688  56873189        .          -1        -1   \n",
       "215976     chrY    56873413  56873914        .          -1        -1   \n",
       "215977     chrY    56873944  56874445        .          -1        -1   \n",
       "\n",
       "       gene_name  distance  \n",
       "0              .        -1  \n",
       "1              .        -1  \n",
       "2              .        -1  \n",
       "3              .        -1  \n",
       "4              .        -1  \n",
       "...          ...       ...  \n",
       "215973         .        -1  \n",
       "215974         .        -1  \n",
       "215975         .        -1  \n",
       "215976         .        -1  \n",
       "215977         .        -1  \n",
       "\n",
       "[215978 rows x 8 columns]"
      ]
     },
     "execution_count": 59,
     "metadata": {},
     "output_type": "execute_result"
    }
   ],
   "source": [
    "# Now find the nearest gene\n",
    "closest_genes = peaks_bed.closest(genes_bed, d=True)\n",
    "closest_genes_df = closest_genes.to_dataframe(\n",
    "    names=[\"peak_chr\", \"peak_start\", \"peak_end\", \"gene_chr\", \"gene_start\", \"gene_end\", \"gene_name\", \"distance\"]\n",
    ")\n",
    "\n",
    "closest_genes_df"
   ]
  },
  {
   "cell_type": "code",
   "execution_count": 60,
   "metadata": {},
   "outputs": [],
   "source": [
    "# Keep only peaks within 10kb of a gene\n",
    "closest_genes_df = closest_genes_df[closest_genes_df[\"distance\"] <= 10000]"
   ]
  },
  {
   "cell_type": "code",
   "execution_count": 61,
   "metadata": {},
   "outputs": [],
   "source": [
    "# Aggregate chromatin accessibility for each gene\n",
    "import numpy as np\n",
    "\n",
    "gene_activity = closest_genes_df.groupby(\"gene_name\")[\"peak_start\"].count()\n",
    "gene_activity = gene_activity / gene_activity.max()  # Normalize\n"
   ]
  },
  {
   "cell_type": "code",
   "execution_count": 62,
   "metadata": {},
   "outputs": [
    {
     "data": {
      "text/plain": [
       "(1,)"
      ]
     },
     "execution_count": 62,
     "metadata": {},
     "output_type": "execute_result"
    }
   ],
   "source": [
    "gene_activity.shape"
   ]
  }
 ],
 "metadata": {
  "kernelspec": {
   "display_name": "anndatas",
   "language": "python",
   "name": "python3"
  },
  "language_info": {
   "codemirror_mode": {
    "name": "ipython",
    "version": 3
   },
   "file_extension": ".py",
   "mimetype": "text/x-python",
   "name": "python",
   "nbconvert_exporter": "python",
   "pygments_lexer": "ipython3",
   "version": "3.9.18"
  }
 },
 "nbformat": 4,
 "nbformat_minor": 2
}
