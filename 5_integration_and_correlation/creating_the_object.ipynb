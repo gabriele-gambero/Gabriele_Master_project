{
 "cells": [
  {
   "cell_type": "markdown",
   "metadata": {},
   "source": [
    "Environment name: `r_env_corr`"
   ]
  },
  {
   "cell_type": "code",
   "execution_count": 55,
   "metadata": {
    "vscode": {
     "languageId": "r"
    }
   },
   "outputs": [
    {
     "data": {
      "text/html": [
       "'R version 4.4.2 (2024-10-31)'"
      ],
      "text/latex": [
       "'R version 4.4.2 (2024-10-31)'"
      ],
      "text/markdown": [
       "'R version 4.4.2 (2024-10-31)'"
      ],
      "text/plain": [
       "[1] \"R version 4.4.2 (2024-10-31)\""
      ]
     },
     "metadata": {},
     "output_type": "display_data"
    }
   ],
   "source": [
    "R.version.string\n"
   ]
  },
  {
   "cell_type": "code",
   "execution_count": 56,
   "metadata": {
    "vscode": {
     "languageId": "r"
    }
   },
   "outputs": [],
   "source": [
    "# BiocManager::install(\"EnsDb.Hsapiens.v86\")\n",
    "# BiocManager::install(\"BSgenome.Hsapiens.UCSC.hg38\")\n",
    "# devtools::install_github(\"jbergenstrahle/STUtility\")\n",
    "# remotes::install_github('satijalab/seurat-wrappers')\n",
    "# devtools::install_github('cole-trapnell-lab/monocle3')\n",
    "# devtools::install_github(\"GreenleafLab/ArchR\", ref=\"master\", repos = BiocManager::repositories())"
   ]
  },
  {
   "cell_type": "code",
   "execution_count": 57,
   "metadata": {
    "vscode": {
     "languageId": "r"
    }
   },
   "outputs": [],
   "source": [
    "# if (!requireNamespace(\"BiocManager\", quietly = TRUE))\n",
    "#     install.packages(\"BiocManager\")\n",
    "\n",
    "# BiocManager::install(c(\"GenomeInfoDb\", \"EnsDb.Hsapiens.v86\", \"BSgenome.Hsapiens.UCSC.hg38\", \"DropletUtils\"), force=TRUE)\n",
    "\n",
    "# install.packages(c(\"harmony\", \"gprofiler2\", \"loomR\", \"SeuratWrappers\", \"monocle3\", \"ArchR\", \"STutility\", \"parallel\", \"ica\", \"spdep\", \"jpeg\", \"ggpubr\", \"gplots\"))\n",
    "\n",
    "# library(GenomeInfoDb)\n",
    "# library(EnsDb.Hsapiens.v86)\n",
    "# library(BSgenome.Hsapiens.UCSC.hg38)\n",
    "# library(Signac)\n",
    "# library(Seurat)\n",
    "# library(DropletUtils)\n",
    "# library(harmony)\n",
    "# library(ggplot2)\n",
    "# library(dplyr)"
   ]
  },
  {
   "cell_type": "code",
   "execution_count": 58,
   "metadata": {
    "vscode": {
     "languageId": "r"
    }
   },
   "outputs": [],
   "source": [
    "setwd(dir = \"/disk2/user/gabgam/the_project/5_integration_and_correlation/\")"
   ]
  },
  {
   "cell_type": "code",
   "execution_count": 59,
   "metadata": {
    "vscode": {
     "languageId": "r"
    }
   },
   "outputs": [
    {
     "name": "stderr",
     "output_type": "stream",
     "text": [
      "Setting default genome to Hg38.\n",
      "\n"
     ]
    }
   ],
   "source": [
    "# source(\"/disk2/user/gabgam/work/gigi_env/the_project/data/spatial_atac/github_folder/code/source_satac.R\")\n",
    "source(\"./utils/source_satac.R\")"
   ]
  },
  {
   "cell_type": "code",
   "execution_count": 60,
   "metadata": {
    "vscode": {
     "languageId": "r"
    }
   },
   "outputs": [],
   "source": [
    "# table <- list()\n",
    "\n",
    "# PATH_TO_sATAC_DATA_FOLDER <- \"../data/spatial_atac/\"\n",
    "# sATAC_SAMPLE_NAME <- \"220327_C1\"\n",
    "\n",
    "# # create a table containing paths to raw and meta data (i.e., output from cellranger + spatial info)\n",
    "# table <- list(\n",
    "#         singlecell = paste0(PATH_TO_sATAC_DATA_FOLDER, \"outs/\", sATAC_SAMPLE_NAME, \"/singlecell.csv\"),\n",
    "#         fragments = paste0(PATH_TO_sATAC_DATA_FOLDER, \"outs/\", sATAC_SAMPLE_NAME, \"/fragments.tsv.gz\"),\n",
    "#         tissue_paths = paste0(PATH_TO_sATAC_DATA_FOLDER, \"github_folder/meta/\", sATAC_SAMPLE_NAME, \"_tissue.tsv\"),\n",
    "#         spotfiles = paste0(PATH_TO_sATAC_DATA_FOLDER, \"github_folder/meta/\", sATAC_SAMPLE_NAME, \"_tissue.csv\")\n",
    "#         )\n",
    "\n",
    "# # as.data.frame(table)\n",
    "# table"
   ]
  },
  {
   "cell_type": "code",
   "execution_count": 61,
   "metadata": {
    "vscode": {
     "languageId": "r"
    }
   },
   "outputs": [
    {
     "name": "stderr",
     "output_type": "stream",
     "text": [
      "Computing hash\n",
      "\n",
      "File exists.\n",
      "\n",
      "Computing hash\n",
      "\n",
      "File exists.\n",
      "\n",
      "Computing hash\n",
      "\n",
      "File exists.\n",
      "\n"
     ]
    }
   ],
   "source": [
    "# set paths to raw data and metadata\n",
    "dirs <- list.dirs(\"../data/spatial_atac/outs/\", recursive = F, full.names = F)\n",
    "table <- list()\n",
    "\n",
    "PATH_TO_sATAC_DATA_FOLDER <- \"../data/spatial_atac/\"\n",
    "sATAC_SAMPLE_NAME <- \"220327_C1\"\n",
    "# dirs <- list(\"220327_C1\")\n",
    "\n",
    "# create a table containing paths to raw and meta data (i.e., output from cellranger + spatial info)\n",
    "for(i in dirs){\n",
    "  table[[i]] <- list(samples = paste0(PATH_TO_sATAC_DATA_FOLDER, \"outs/\", i, \"/raw_peak_bc_matrix.h5\"),\n",
    "                  singlecell = paste0(PATH_TO_sATAC_DATA_FOLDER, \"outs/\", i, \"/singlecell.csv\"),\n",
    "                  fragments = paste0(PATH_TO_sATAC_DATA_FOLDER, \"outs/\", i, \"/fragments.tsv.gz\"),\n",
    "                  tissue_paths = paste0(PATH_TO_sATAC_DATA_FOLDER, \"github_folder/meta/\", i, \"_tissue.tsv\"),\n",
    "                  spotfiles = paste0(PATH_TO_sATAC_DATA_FOLDER, \"github_folder/meta/\", i, \"_tissue.csv\"))\n",
    "}\n",
    "\n",
    "infoTable <- do.call(\"rbind\", table) %>% as.data.frame()\n",
    "#infoTable <- as.data.frame(table, stringsAsFactors = FALSE)\n",
    "\n",
    "object <- list(md = list(),\n",
    "               frag = list(),\n",
    "               counts = list())\n",
    "\n",
    "# build new matrices with new peak set\n",
    "# peaks obtained from https://www.science.org/doi/10.1126/science.aav1898\n",
    "# load peaks and create genomicranges object\n",
    "BRCA_PEAK_CALLS <- paste0(PATH_TO_sATAC_DATA_FOLDER, \"github_folder/meta/BRCA_peakCalls.csv\")\n",
    "\n",
    "gr <- read.csv(\n",
    "  file = BRCA_PEAK_CALLS,\n",
    "  col.names = c(\"chr\", \"start\", \"end\"),\n",
    "  sep = \";\"\n",
    ") %>% makeGRangesFromDataFrame()\n",
    "\n",
    "# create fragment objects and count matrices for each section separately\n",
    "for(i in seq_along(dirs)){\n",
    "  folder = paste0(PATH_TO_sATAC_DATA_FOLDER, \"combined/\")\n",
    "  # load metadata\n",
    "  object$md[[i]] <- read.table(\n",
    "    file = infoTable$singlecell[[i]],\n",
    "    stringsAsFactors = FALSE,\n",
    "    sep = \",\",\n",
    "    header = TRUE,\n",
    "    row.names = 1\n",
    "  )[-1, ] # remove the first row (NO_BARCODE)\n",
    "  \n",
    "  # create fragment objects\n",
    "  object$frag[[i]] <- CreateFragmentObject(\n",
    "    path = infoTable$fragments[[i]],\n",
    "    cells = rownames(object$md[[i]])\n",
    "  )\n",
    "  \n",
    "  if (file.exists(paste0(folder, \"brca_peak_bc_matrix.h5\"))) {\n",
    "    message(\"File exists.\")\n",
    "    object$counts[[i]] <- Read10X_h5(paste0(folder, \"brca_peak_bc_matrix.h5\"))\n",
    "    \n",
    "  } else {\n",
    "    \n",
    "    # make count matrix\n",
    "    object$counts[[i]] <- FeatureMatrix(\n",
    "      fragments = object$frag[[i]],\n",
    "      features = gr,\n",
    "      cells = rownames(object$md[[i]])\n",
    "    )\n",
    "    \n",
    "    write10xCounts(path = paste0(folder, \"brca_peak_bc_matrix.h5\"),\n",
    "                   x = object$counts[[i]],\n",
    "                   type = \"HDF5\") # save new count matrix\n",
    "  }\n",
    "  \n",
    "}\n"
   ]
  },
  {
   "cell_type": "code",
   "execution_count": 62,
   "metadata": {
    "vscode": {
     "languageId": "r"
    }
   },
   "outputs": [],
   "source": [
    "# save unmerged objects and metadata\n",
    "saveRDS(object, \"output/sATAC_all_samples_preprocessing/brca_unmerged.rds\")"
   ]
  },
  {
   "cell_type": "markdown",
   "metadata": {},
   "source": [
    "building the correct tissue_list file."
   ]
  },
  {
   "cell_type": "code",
   "execution_count": 63,
   "metadata": {
    "vscode": {
     "languageId": "r"
    }
   },
   "outputs": [
    {
     "name": "stderr",
     "output_type": "stream",
     "text": [
      "Warning message in write.csv(spotfile_tissue, paste0(strsplit(infoTable$tissue_paths[[i]], :\n",
      "\"attempt to set 'sep' ignored\"\n"
     ]
    },
    {
     "name": "stderr",
     "output_type": "stream",
     "text": [
      "Warning message in write.csv(spotfile_tissue, paste0(strsplit(infoTable$tissue_paths[[i]], :\n",
      "\"attempt to set 'sep' ignored\"\n",
      "Warning message in write.csv(spotfile_tissue, paste0(strsplit(infoTable$tissue_paths[[i]], :\n",
      "\"attempt to set 'sep' ignored\"\n"
     ]
    }
   ],
   "source": [
    "# make tissue position files\n",
    "for(i in seq_along(infoTable$tissue_paths)){\n",
    "  spotfile <- read.table(infoTable$tissue_paths[[i]], sep = \"\\t\", header = T)\n",
    "  \n",
    "  spotfile_tissue <- cbind(\n",
    "    spotfile$row, #array_row\n",
    "    spotfile$col, #array_col\n",
    "    spotfile$x, #pxl_row_in_fullres\n",
    "    spotfile$y #pxl_col_in_fullres\n",
    "  ) %>% as.data.frame()\n",
    "  tissue <- rep(1, nrow(spotfile_tissue))\n",
    "  spotfile_tissue <- cbind(tissue, spotfile_tissue)\n",
    "  rownames(spotfile_tissue) <- paste0(spotfile$barcode, \"-1\")\n",
    "  \n",
    "  # save new tissue position file with the correct columns for creating STutility object as .csv files\n",
    "  write.csv(spotfile_tissue, \n",
    "            paste0(strsplit(infoTable$tissue_paths[[i]], \"tsv\"), \"csv\"), \n",
    "            sep = \",\")\n",
    "  \n",
    "}"
   ]
  },
  {
   "cell_type": "markdown",
   "metadata": {},
   "source": [
    "loading the files just created and "
   ]
  },
  {
   "cell_type": "code",
   "execution_count": 64,
   "metadata": {
    "vscode": {
     "languageId": "r"
    }
   },
   "outputs": [],
   "source": [
    "# load spotfiles\n",
    "tissue_md <- list()\n",
    "object$mtx <- list()\n",
    "\n",
    "for(i in seq_along(infoTable$spotfiles)){\n",
    "  spotfile <- read.csv(infoTable$spotfiles[[i]],\n",
    "                       col.names = c(\"barcode\", \"tissue\", \"y\", \"x\", \"pixel_y\", \"pixel_x\")\n",
    "  )\n",
    "  \n",
    "  # filter count matrix to retain only spots overlaying tissue\n",
    "  mtx <- object$counts[[i]] # barcodes extracted from here\n",
    "  mtx <- mtx[,colnames(mtx) %in% spotfile$barcode] \n",
    "  \n",
    "  object$mtx[[i]] <- mtx\n",
    "  \n",
    "  #save spot info in a list\n",
    "  tissue_md[[i]] <- spotfile\n",
    "}\n"
   ]
  },
  {
   "cell_type": "code",
   "execution_count": 72,
   "metadata": {
    "vscode": {
     "languageId": "r"
    }
   },
   "outputs": [
    {
     "name": "stderr",
     "output_type": "stream",
     "text": [
      "Warning message in CreateChromatinAssay(object$mtx[[i]], fragments = object$frag[[i]]):\n",
      "\"Overlapping ranges supplied. Ranges should be non-overlapping.\"\n",
      "Performing TF-IDF normalization\n",
      "\n",
      "Warning message in RunTFIDF.default(object = GetAssayData(object = object, layer = \"counts\"), :\n",
      "\"Some features contain 0 total counts\"\n",
      "Running SVD\n",
      "\n",
      "Scaling cell embeddings\n",
      "\n",
      "Warning message in CreateChromatinAssay(object$mtx[[i]], fragments = object$frag[[i]]):\n",
      "\"Overlapping ranges supplied. Ranges should be non-overlapping.\"\n",
      "Performing TF-IDF normalization\n",
      "\n",
      "Warning message in RunTFIDF.default(object = GetAssayData(object = object, layer = \"counts\"), :\n",
      "\"Some features contain 0 total counts\"\n",
      "Running SVD\n",
      "\n",
      "Scaling cell embeddings\n",
      "\n",
      "Warning message in CreateChromatinAssay(object$mtx[[i]], fragments = object$frag[[i]]):\n",
      "\"Overlapping ranges supplied. Ranges should be non-overlapping.\"\n",
      "Performing TF-IDF normalization\n",
      "\n",
      "Warning message in RunTFIDF.default(object = GetAssayData(object = object, layer = \"counts\"), :\n",
      "\"Some features contain 0 total counts\"\n",
      "Running SVD\n",
      "\n",
      "Scaling cell embeddings\n",
      "\n"
     ]
    }
   ],
   "source": [
    "signac_object <- list()\n",
    "\n",
    "# create signac objects for each section and run normalization and dimensionality reduction\n",
    "for(i in seq_along(infoTable$spotfiles)){\n",
    "  assay <- CreateChromatinAssay(object$mtx[[i]], \n",
    "                                fragments = object$frag[[i]])\n",
    "  \n",
    "  signac_object[[i]] <- CreateSeuratObject(assay, \n",
    "                                           assay = \"peaks\", \n",
    "                                           meta.data=object$md[[i]])\n",
    "  signac_object[[i]]$section <- rownames(infoTable)[i]\n",
    "  # signac_object[[i]]$sample <- i\n",
    "  signac_object[[i]]$sample <- rownames(infoTable)[i]\n",
    "  # compute LSI\n",
    "  signac_object[[i]] <- FindTopFeatures(signac_object[[i]], min.cutoff = 10)\n",
    "  signac_object[[i]] <- RunTFIDF(signac_object[[i]])\n",
    "  signac_object[[i]] <- RunSVD(signac_object[[i]])\n",
    "}"
   ]
  },
  {
   "cell_type": "code",
   "execution_count": 73,
   "metadata": {
    "vscode": {
     "languageId": "r"
    }
   },
   "outputs": [
    {
     "name": "stderr",
     "output_type": "stream",
     "text": [
      "Warning message:\n",
      "\"Some cell names are duplicated across objects provided. Renaming to enforce unique cell names.\"\n"
     ]
    },
    {
     "name": "stderr",
     "output_type": "stream",
     "text": [
      "Warning message in CreateChromatinAssay(counts = merged.counts, min.cells = -1, :\n",
      "\"Overlapping ranges supplied. Ranges should be non-overlapping.\"\n"
     ]
    },
    {
     "data": {
      "text/plain": [
       "\n",
       "220327_C1 220327_C2 220327_D2 \n",
       "     3538      2795      3533 "
      ]
     },
     "metadata": {},
     "output_type": "display_data"
    }
   ],
   "source": [
    "# merge objects\n",
    "combined <- merge(\n",
    "  x = signac_object[[1]],\n",
    "  y = c(signac_object[2:length(dirs)])\n",
    ")\n",
    "\n",
    "table(combined$section)\n",
    "\n",
    "# add spatial data to meta\n",
    "for(i in seq_along(infoTable$tissue_paths)){\n",
    "  tissue_md[[i]]$barcode <- paste0(tissue_md[[i]]$barcode, \"_\", i)\n",
    "  rownames(tissue_md[[i]]) <- tissue_md[[i]]$barcode \n",
    "}\n",
    "\n",
    "tissue_md_combined <- do.call(\"rbind\", tissue_md) \n",
    "combined <- AddMetaData(combined, tissue_md_combined)\n"
   ]
  },
  {
   "cell_type": "markdown",
   "metadata": {},
   "source": [
    "Don't add the image as mine has already been processed."
   ]
  },
  {
   "cell_type": "code",
   "execution_count": 76,
   "metadata": {
    "vscode": {
     "languageId": "r"
    }
   },
   "outputs": [
    {
     "data": {
      "text/html": [
       "<dl>\n",
       "\t<dt>$`220327_C1`</dt>\n",
       "\t\t<dd>'../data/spatial_atac/github_folder/meta/220327_C1_tissue.csv'</dd>\n",
       "\t<dt>$`220327_C2`</dt>\n",
       "\t\t<dd>'../data/spatial_atac/github_folder/meta/220327_C2_tissue.csv'</dd>\n",
       "\t<dt>$`220327_D2`</dt>\n",
       "\t\t<dd>'../data/spatial_atac/github_folder/meta/220327_D2_tissue.csv'</dd>\n",
       "</dl>\n"
      ],
      "text/latex": [
       "\\begin{description}\n",
       "\\item[\\$`220327\\_C1`] '../data/spatial\\_atac/github\\_folder/meta/220327\\_C1\\_tissue.csv'\n",
       "\\item[\\$`220327\\_C2`] '../data/spatial\\_atac/github\\_folder/meta/220327\\_C2\\_tissue.csv'\n",
       "\\item[\\$`220327\\_D2`] '../data/spatial\\_atac/github\\_folder/meta/220327\\_D2\\_tissue.csv'\n",
       "\\end{description}\n"
      ],
      "text/markdown": [
       "$`220327_C1`\n",
       ":   '../data/spatial_atac/github_folder/meta/220327_C1_tissue.csv'\n",
       "$`220327_C2`\n",
       ":   '../data/spatial_atac/github_folder/meta/220327_C2_tissue.csv'\n",
       "$`220327_D2`\n",
       ":   '../data/spatial_atac/github_folder/meta/220327_D2_tissue.csv'\n",
       "\n",
       "\n"
      ],
      "text/plain": [
       "$`220327_C1`\n",
       "[1] \"../data/spatial_atac/github_folder/meta/220327_C1_tissue.csv\"\n",
       "\n",
       "$`220327_C2`\n",
       "[1] \"../data/spatial_atac/github_folder/meta/220327_C2_tissue.csv\"\n",
       "\n",
       "$`220327_D2`\n",
       "[1] \"../data/spatial_atac/github_folder/meta/220327_D2_tissue.csv\"\n"
      ]
     },
     "metadata": {},
     "output_type": "display_data"
    }
   ],
   "source": [
    "infoTable$spotfiles"
   ]
  },
  {
   "cell_type": "code",
   "execution_count": 75,
   "metadata": {
    "vscode": {
     "languageId": "r"
    }
   },
   "outputs": [
    {
     "name": "stdout",
     "output_type": "stream",
     "text": [
      "An object of class Seurat \n",
      "215978 features across 3538 samples within 1 assay \n",
      "Active assay: peaks (215978 features, 0 variable features)\n",
      " 2 layers present: counts, data\n"
     ]
    }
   ],
   "source": [
    "# Extract Only `220327_C1`\n",
    "signac_filtered <- subset(combined, subset = sample == \"220327_C1\")\n",
    "\n",
    "# Save Processed Object\n",
    "saveRDS(signac_filtered, \"220327_C1_signac_object.rds\")\n",
    "\n",
    "# Print Summary\n",
    "print(signac_filtered)"
   ]
  },
  {
   "cell_type": "code",
   "execution_count": 79,
   "metadata": {
    "vscode": {
     "languageId": "r"
    }
   },
   "outputs": [
    {
     "name": "stderr",
     "output_type": "stream",
     "text": [
      "Performing TF-IDF normalization\n",
      "\n",
      "Warning message in RunTFIDF.default(object = GetAssayData(object = object, layer = \"counts\"), :\n",
      "\"Some features contain 0 total counts\"\n"
     ]
    },
    {
     "name": "stderr",
     "output_type": "stream",
     "text": [
      "Running SVD\n",
      "\n",
      "Scaling cell embeddings\n",
      "\n",
      "15:39:46 UMAP embedding parameters a = 0.9922 b = 1.112\n",
      "\n",
      "15:39:46 Read 3538 rows and found 6 numeric columns\n",
      "\n",
      "15:39:46 Using Annoy for neighbor search, n_neighbors = 30\n",
      "\n",
      "15:39:46 Building Annoy index with metric = cosine, n_trees = 50\n",
      "\n",
      "0%   10   20   30   40   50   60   70   80   90   100%\n",
      "\n",
      "[----|----|----|----|----|----|----|----|----|----|\n",
      "\n",
      "*\n",
      "*\n",
      "*\n",
      "*\n",
      "*\n",
      "*\n",
      "*\n",
      "*\n",
      "*\n",
      "*\n",
      "*\n",
      "*\n",
      "*\n",
      "*\n",
      "*\n",
      "*\n",
      "*\n",
      "*\n",
      "*\n",
      "*\n",
      "*\n",
      "*\n",
      "*\n",
      "*\n",
      "*\n",
      "*\n",
      "*\n",
      "*\n",
      "*\n",
      "*\n",
      "*\n",
      "*\n",
      "*\n",
      "*\n",
      "*\n",
      "*\n",
      "*\n",
      "*\n",
      "*\n",
      "*\n",
      "*\n",
      "*\n",
      "*\n",
      "*\n",
      "*\n",
      "*\n",
      "*\n",
      "*\n",
      "*\n",
      "*\n",
      "|\n",
      "\n",
      "15:39:47 Writing NN index file to temp file /tmp/RtmplafeTH/file12eabe5e06dc39\n",
      "\n",
      "15:39:47 Searching Annoy index using 1 thread, search_k = 3000\n",
      "\n",
      "15:39:48 Annoy recall = 100%\n",
      "\n",
      "15:39:51 Commencing smooth kNN distance calibration using 1 thread\n",
      " with target n_neighbors = 30\n",
      "\n",
      "15:39:55 Initializing from normalized Laplacian + noise (using RSpectra)\n",
      "\n",
      "15:39:55 Commencing optimization for 500 epochs, with 115044 positive edges\n",
      "\n",
      "15:39:55 Using rng type: pcg\n",
      "\n",
      "15:40:01 Optimization finished\n",
      "\n",
      "Computing nearest neighbor graph\n",
      "\n",
      "Computing SNN\n",
      "\n"
     ]
    },
    {
     "name": "stdout",
     "output_type": "stream",
     "text": [
      "Modularity Optimizer version 1.3.0 by Ludo Waltman and Nees Jan van Eck\n",
      "\n",
      "Number of nodes: 3538\n",
      "Number of edges: 99972\n",
      "\n",
      "Running smart local moving algorithm...\n",
      "Maximum modularity in 10 random starts: 0.6749\n",
      "Number of communities: 5\n",
      "Elapsed time: 2 seconds\n"
     ]
    }
   ],
   "source": [
    "#preprocess raw data\n",
    "signac_filtered <- signac_filtered %>% \n",
    "  RunTFIDF() %>%\n",
    "  FindTopFeatures(min.cutoff = 'q0') %>%\n",
    "  RunSVD() %>%\n",
    "  RunUMAP(reduction = 'lsi', dims = 2:7) %>%\n",
    "  FindNeighbors(reduction = 'lsi', dims = 2:7) %>%\n",
    "  FindClusters(algorithm = 3, resolution = 0.5)\n"
   ]
  },
  {
   "cell_type": "code",
   "execution_count": 80,
   "metadata": {
    "vscode": {
     "languageId": "r"
    }
   },
   "outputs": [
    {
     "name": "stderr",
     "output_type": "stream",
     "text": [
      "Warning message in asMethod(object):\n",
      "\"sparse->dense coercion: allocating vector of size 5.7 GiB\"\n"
     ]
    }
   ],
   "source": [
    "#save matrix for denoising\n",
    "write.csv(signac_filtered@assays$peaks@data,\n",
    "          \"signac_filtered_brca_q0_peak_bc_matrix.csv\")"
   ]
  },
  {
   "cell_type": "code",
   "execution_count": 81,
   "metadata": {
    "vscode": {
     "languageId": "r"
    }
   },
   "outputs": [
    {
     "name": "stderr",
     "output_type": "stream",
     "text": [
      "  [[ suppressing 3538 column names 'AAACAAGGGATCAAAT-1_1', 'AAACAGCAGTCTGCTA-1_1', 'AAACATTCGGGATTCT-1_1' ... ]]\n",
      "\n"
     ]
    },
    {
     "data": {
      "text/plain": [
       "6 x 3538 sparse Matrix of class \"dgCMatrix\"\n",
       "                                                                               \n",
       "chr1-975451-975952   . . . . . . . . . . . . . . .        . . . . . . . . . . .\n",
       "chr1-1014228-1014729 . . . . . . . . . . . . . . 6.896184 . . . . . . . . . . .\n",
       "chr1-1290080-1290581 . . . . . . . . . . . . . . .        . . . . . . . . . . .\n",
       "chr1-1291099-1291600 . . . . . . . . . . . . . . .        . . . . . . . . . . .\n",
       "chr1-1291742-1292243 . . . . . . . . . . . . . . .        . . . . . . . . . . .\n",
       "chr1-1327977-1328478 . . . . . . . . . . . . . . .        . . . . . . . . . . .\n",
       "                                                                              \n",
       "chr1-975451-975952   . . . . . . . . . . . . . . . . . . . . . . . . . . . . .\n",
       "chr1-1014228-1014729 . . . . . . . . . . . . . . . . . . . . . . . . . . . . .\n",
       "chr1-1290080-1290581 . . . . . . . . . . . . . . . . . . . . . . . . . . . . .\n",
       "chr1-1291099-1291600 . . . . . . . . . . . . . . . . . . . . . . . . . . . . .\n",
       "chr1-1291742-1292243 . . . . . . . . . . . . . . . . . . . . . . . . . . . . .\n",
       "chr1-1327977-1328478 . . . . . . . . . . . . . . . . . . . . . . . . . . . . .\n",
       "                                                                               \n",
       "chr1-975451-975952   . . . . . . . . . . . . . . .        . . . . . . . . . . .\n",
       "chr1-1014228-1014729 . . . . . . . . . . . . . . .        . . . . . . . . . . .\n",
       "chr1-1290080-1290581 . . . . . . . . . . . . . . 7.535962 . . . . . . . . . . .\n",
       "chr1-1291099-1291600 . . . . . . . . . . . . . . .        . . . . . . . . . . .\n",
       "chr1-1291742-1292243 . . . . . . . . . . . . . . .        . . . . . . . . . . .\n",
       "chr1-1327977-1328478 . . . . . . . . . . . . . . .        . . . . . . . . . . .\n",
       "                                                                              \n",
       "chr1-975451-975952   . . . . . . . . . . . . . . . . . . . . . . . . . . . . .\n",
       "chr1-1014228-1014729 . . . . . . . . . . . . . . . . . . . . . . . . . . . . .\n",
       "chr1-1290080-1290581 . . . . . . . . . . . . . . . . . . . . . . . . . . . . .\n",
       "chr1-1291099-1291600 . . . . . . . . . . . . . . . . . . . . . . . . . . . . .\n",
       "chr1-1291742-1292243 . . . . . . . . . . . . . . . . . . . . . . . . . . . . .\n",
       "chr1-1327977-1328478 . . . . . . . . . . . . . . . . . . . . . . . . . . . . .\n",
       "                                                                              \n",
       "chr1-975451-975952   . . . . . . . . . . . . . . . . . . . . . . . . . . . . .\n",
       "chr1-1014228-1014729 . . . . . . . . . . . . . . . . . . . . . . . . . . . . .\n",
       "chr1-1290080-1290581 . . . . . . . . . . . . . . . . . . . . . . . . . . . . .\n",
       "chr1-1291099-1291600 . . . . . . . . . . . . . . . . . . . . . . . . . . . . .\n",
       "chr1-1291742-1292243 . . . . . . . . . . . . . . . . . . . . . . . . . . . . .\n",
       "chr1-1327977-1328478 . . . . . . . . . . . . . . . . . . . . . . . . . . . . .\n",
       "                                                                               \n",
       "chr1-975451-975952   . . . . .        . . . . . . . . . . . . . . . . . . . . .\n",
       "chr1-1014228-1014729 . . . . .        . . . . . . . . . . . . . . . . . . . . .\n",
       "chr1-1290080-1290581 . . . . .        . . . . . . . . . . . . . . . . . . . . .\n",
       "chr1-1291099-1291600 . . . . .        . . . . . . . . . . . . . . . . . . . . .\n",
       "chr1-1291742-1292243 . . . . 6.876527 . . . . . . . . . . . . . . . . . . . . .\n",
       "chr1-1327977-1328478 . . . . .        . . . . . . . . . . . . . . . . . . . . .\n",
       "                                                                               \n",
       "chr1-975451-975952   . . . . . . . . . . . .        . . . . . . . . . . . . . .\n",
       "chr1-1014228-1014729 . . . . . . . . . . . 6.500446 . . . . . . . . . . . . . .\n",
       "chr1-1290080-1290581 . . . . . . . . . . . .        . . . . . . . . . . . . . .\n",
       "chr1-1291099-1291600 . . . . . . . . . . . .        . . . . . . . . . . . . . .\n",
       "chr1-1291742-1292243 . . . . . . . . . . . .        . . . . . . . . . . . . . .\n",
       "chr1-1327977-1328478 . . . . . . . . . . . .        . . . . . . . . . . . . . .\n",
       "                                                                              \n",
       "chr1-975451-975952   . . . . . . . . . . . . . . . . . . . . . . . . . . . . .\n",
       "chr1-1014228-1014729 . . . . . . . . . . . . . . . . . . . . . . . . . . . . .\n",
       "chr1-1290080-1290581 . . . . . . . . . . . . . . . . . . . . . . . . . . . . .\n",
       "chr1-1291099-1291600 . . . . . . . . . . . . . . . . . . . . . . . . . . . . .\n",
       "chr1-1291742-1292243 . . . . . . . . . . . . . . . . . . . . . . . . . . . . .\n",
       "chr1-1327977-1328478 . . . . . . . . . . . . . . . . . . . . . . . . . . . . .\n",
       "                                                                              \n",
       "chr1-975451-975952   . . . . . . . . . . . . . . . . . . . . . . . . . . . . .\n",
       "chr1-1014228-1014729 . . . . . . . . . . . . . . . . . . . . . . . . . . . . .\n",
       "chr1-1290080-1290581 . . . . . . . . . . . . . . . . . . . . . . . . . . . . .\n",
       "chr1-1291099-1291600 . . . . . . . . . . . . . . . . . . . . . . . . . . . . .\n",
       "chr1-1291742-1292243 . . . . . . . . . . . . . . . . . . . . . . . . . . . . .\n",
       "chr1-1327977-1328478 . . . . . . . . . . . . . . . . . . . . . . . . . . . . .\n",
       "                                                                              \n",
       "chr1-975451-975952   . . . . . . . . . . . . . . . . . . . . . . . . . . . . .\n",
       "chr1-1014228-1014729 . . . . . . . . . . . . . . . . . . . . . . . . . . . . .\n",
       "chr1-1290080-1290581 . . . . . . . . . . . . . . . . . . . . . . . . . . . . .\n",
       "chr1-1291099-1291600 . . . . . . . . . . . . . . . . . . . . . . . . . . . . .\n",
       "chr1-1291742-1292243 . . . . . . . . . . . . . . . . . . . . . . . . . . . . .\n",
       "chr1-1327977-1328478 . . . . . . . . . . . . . . . . . . . . . . . . . . . . .\n",
       "                                                                       \n",
       "chr1-975451-975952   . . . . . . . . . . 6.589804 . . . . . . . . . . .\n",
       "chr1-1014228-1014729 . . . . . . . . . . .        . . . . . . . . . . .\n",
       "chr1-1290080-1290581 . . . . . . . . . . .        . . . . . . . . . . .\n",
       "chr1-1291099-1291600 . . . . . . . . . . .        . . . . . . . . . . .\n",
       "chr1-1291742-1292243 . . . . . . . . . . .        . . . . . . . . . . .\n",
       "chr1-1327977-1328478 . . . . . . . . . . .        . . . . . . . . . . .\n",
       "                                                                              \n",
       "chr1-975451-975952   .        . . . . . . . . . . . . . . . . . . . .      . .\n",
       "chr1-1014228-1014729 .        . . . . . . . . . . . . . . . . . . . .      . .\n",
       "chr1-1290080-1290581 6.917034 . . . . . . . . . . . . . . . . . . . .      . .\n",
       "chr1-1291099-1291600 .        . . . . . . . . . . . . . . . . . . . .      . .\n",
       "chr1-1291742-1292243 .        . . . . . . . . . . . . . . . . . . . .      . .\n",
       "chr1-1327977-1328478 .        . . . . . . . . . . . . . . . . . . . 7.7335 . .\n",
       "                                                                              \n",
       "chr1-975451-975952   . . . . . . . . . . . . . . . . . . . . . . . . . . . . .\n",
       "chr1-1014228-1014729 . . . . . . . . . . . . . . . . . . . . . . . . . . . . .\n",
       "chr1-1290080-1290581 . . . . . . . . . . . . . . . . . . . . . . . . . . . . .\n",
       "chr1-1291099-1291600 . . . . . . . . . . . . . . . . . . . . . . . . . . . . .\n",
       "chr1-1291742-1292243 . . . . . . . . . . . . . . . . . . . . . . . . . . . . .\n",
       "chr1-1327977-1328478 . . . . . . . . . . . . . . . . . . . . . . . . . . . . .\n",
       "                                                                               \n",
       "chr1-975451-975952   . . . . . . 6.90144 . . . . . . . . . . . 6.937398 6.09214\n",
       "chr1-1014228-1014729 . . . . . . .       . . . . . . . . . . . .        .      \n",
       "chr1-1290080-1290581 . . . . . . .       . . . . . . . . . . . .        .      \n",
       "chr1-1291099-1291600 . . . . . . .       . . . . . . . . . . . .        .      \n",
       "chr1-1291742-1292243 . . . . . . .       . . . . . . . . . . . .        .      \n",
       "chr1-1327977-1328478 . . . . . . .       . . . . . . . . . . . .        .      \n",
       "                                                                              \n",
       "chr1-975451-975952   . . . . . . . . . . . . . . . . . . . . . . . . . . . . .\n",
       "chr1-1014228-1014729 . . . . . . . . . . . . . . . . . . . . . . . . . . . . .\n",
       "chr1-1290080-1290581 . . . . . . . . . . . . . . . . . . . . . . . . . . . . .\n",
       "chr1-1291099-1291600 . . . . . . . . . . . . . . . . . . . . . . . . . . . . .\n",
       "chr1-1291742-1292243 . . . . . . . . . . . . . . . . . . . . . . . . . . . . .\n",
       "chr1-1327977-1328478 . . . . . . . . . . . . . . . . . . . . . . . . . . . . .\n",
       "                                                                               \n",
       "chr1-975451-975952   . . . . . . . . . . . . . . . . . . . .        . . . . . .\n",
       "chr1-1014228-1014729 . . . . . . . . . . . . . . . . . . . 6.988796 . . . . . .\n",
       "chr1-1290080-1290581 . . . . . . . . . . . . . . . . . . . .        . . . . . .\n",
       "chr1-1291099-1291600 . . . . . . . . . . . . . . . . . . . .        . . . . . .\n",
       "chr1-1291742-1292243 . . . . . . . . . . . . . . . . . . . .        . . . . . .\n",
       "chr1-1327977-1328478 . . . . . . . . . . . . . . . . . . . .        . . . . . .\n",
       "                                                                        \n",
       "chr1-975451-975952   . . . . . . . . . . . . . . . . . . . . . . . . . .\n",
       "chr1-1014228-1014729 . . . . . . . . . . . . . . . . . . . . . . . . . .\n",
       "chr1-1290080-1290581 . . . . . . . . . . . . . . . . . . . . . . . . . .\n",
       "chr1-1291099-1291600 . . . . . . . . . . . . . . . . . . . . . . . . . .\n",
       "chr1-1291742-1292243 . . . . . . . . . . . . . . . . . . . . . . . . . .\n",
       "chr1-1327977-1328478 . . . . . . . . . . . . . . . . . . . . . . . . . .\n",
       "                                                                               \n",
       "chr1-975451-975952   .        . . . . . 7.313534 . . . . .        . . . . . . .\n",
       "chr1-1014228-1014729 .        . . . . . .        . . . . 6.660332 . . . . . . .\n",
       "chr1-1290080-1290581 7.397571 . . . . . .        . . . . .        . . . . . . .\n",
       "chr1-1291099-1291600 .        . . . . . .        . . . . .        . . . . . . .\n",
       "chr1-1291742-1292243 .        . . . . . .        . . . . .        . . . . . . .\n",
       "chr1-1327977-1328478 .        . . . . . .        . . . . .        . . . . . . .\n",
       "                                                                              \n",
       "chr1-975451-975952   . . . . . . . . . . . . . . . . . . . . . . . . . . . . .\n",
       "chr1-1014228-1014729 . . . . . . . . . . . . . . . . . . . . . . . . . . . . .\n",
       "chr1-1290080-1290581 . . . . . . . . . . . . . . . . . . . . . . . . . . . . .\n",
       "chr1-1291099-1291600 . . . . . . . . . . . . . . . . . . . . . . . . . . . . .\n",
       "chr1-1291742-1292243 . . . . . . . . . . . . . . . . . . . . . . . . . . . . .\n",
       "chr1-1327977-1328478 . . . . . . . . . . . . . . . . . . . . . . . . . . . . .\n",
       "                                                                               \n",
       "chr1-975451-975952   . . . . . .        . . . . . . . . . . . . . . . . . . . .\n",
       "chr1-1014228-1014729 . . . . . 6.839811 . . . . . . . . . . . . . . . . . . . .\n",
       "chr1-1290080-1290581 . . . . . .        . . . . . . . . . . . . . . . . . . . .\n",
       "chr1-1291099-1291600 . . . . . 7.612424 . . . . . . . . . . . . . . . . . . . .\n",
       "chr1-1291742-1292243 . . . . . 7.389404 . . . . . . . . . . . . . . . . . . . .\n",
       "chr1-1327977-1328478 . . . . . .        . . . . . . . . . . . . . . . . . . . .\n",
       "                                                                              \n",
       "chr1-975451-975952   . . . . . . . . . . . . . . . . . . . . . . . . . . . . .\n",
       "chr1-1014228-1014729 . . . . . . . . . . . . . . . . . . . . . . . . . . . . .\n",
       "chr1-1290080-1290581 . . . . . . . . . . . . . . . . . . . . . . . . . . . . .\n",
       "chr1-1291099-1291600 . . . . . . . . . . . . . . . . . . . . . . . . . . . . .\n",
       "chr1-1291742-1292243 . . . . . . . . . . . . . . . . . . . . . . . . . . . . .\n",
       "chr1-1327977-1328478 . . . . . . . . . . . . . . . . . . . . . . . . . . . . .\n",
       "                                                                              \n",
       "chr1-975451-975952   . . . . . . . . . . . . . . . . . . . . . . . . . . . . .\n",
       "chr1-1014228-1014729 . . . . . . . . . . . . . . . . . . . . . . . . . . . . .\n",
       "chr1-1290080-1290581 . . . . . . . . . . . . . . . . . . . . . . . . . . . . .\n",
       "chr1-1291099-1291600 . . . . . . . . . . . . . . . . . . . . . . . . . . . . .\n",
       "chr1-1291742-1292243 . . . . . . . . . . . . . . . . . . . . . . . . . . . . .\n",
       "chr1-1327977-1328478 . . . . . . . . . . . . . . . . . . . . . . . . . . . . .\n",
       "                                                                               \n",
       "chr1-975451-975952   . . . . . . . . . . . . . . .        . . . . . . . . . . .\n",
       "chr1-1014228-1014729 . . . . . . . . . . . . . . .        . . . . . . . . . . .\n",
       "chr1-1290080-1290581 . . . . . . . . . . . . . . .        . . . . . . . . . . .\n",
       "chr1-1291099-1291600 . . . . . . . . . . . . . . .        . . . . . . . . . . .\n",
       "chr1-1291742-1292243 . . . . . . . . . . . . . . .        . . . . . . . . . . .\n",
       "chr1-1327977-1328478 . . . . . . . . . . . . . . 7.753694 . . . . . . . . . . .\n",
       "                                                                              \n",
       "chr1-975451-975952   . . . . . . . . . . . . . . . . . . . . . . . . . . . . .\n",
       "chr1-1014228-1014729 . . . . . . . . . . . . . . . . . . . . . . . . . . . . .\n",
       "chr1-1290080-1290581 . . . . . . . . . . . . . . . . . . . . . . . . . . . . .\n",
       "chr1-1291099-1291600 . . . . . . . . . . . . . . . . . . . . . . . . . . . . .\n",
       "chr1-1291742-1292243 . . . . . . . . . . . . . . . . . . . . . . . . . . . . .\n",
       "chr1-1327977-1328478 . . . . . . . . . . . . . . . . . . . . . . . . . . . . .\n",
       "                                                                              \n",
       "chr1-975451-975952   . . . . . . . . . . . . . . . . . . . . . . . . . . . . .\n",
       "chr1-1014228-1014729 . . . . . . . . . . . . . . . . . . . . . . . . . . . . .\n",
       "chr1-1290080-1290581 . . . . . . . . . . . . . . . . . . . . . . . . . . . . .\n",
       "chr1-1291099-1291600 . . . . . . . . . . . . . . . . . . . . . . . . . . . . .\n",
       "chr1-1291742-1292243 . . . . . . . . . . . . . . . . . . . . . . . . . . . . .\n",
       "chr1-1327977-1328478 . . . . . . . . . . . . . . . . . . . . . . . . . . . . .\n",
       "                                                                        \n",
       "chr1-975451-975952   . . . . . . . . . . . . . . . . . . . . . . . . . .\n",
       "chr1-1014228-1014729 . . . . . . . . . . . . . . . . . . . . . . . . . .\n",
       "chr1-1290080-1290581 . . . . . . . . . . . . . . . . . . . . . . . . . .\n",
       "chr1-1291099-1291600 . . . . . . . . . . . . . . . . . . . . . . . . . .\n",
       "chr1-1291742-1292243 . . . . . . . . . . . . . . . . . . . . . . . . . .\n",
       "chr1-1327977-1328478 . . . . . . . . . . . . . . . . . . . . . . . . . .\n",
       "                                                                               \n",
       "chr1-975451-975952   .        . . . . . . . . . . . . . . . . . . . . . . . . .\n",
       "chr1-1014228-1014729 .        . . . . . . . . . . . . . . . . . . . . . . . . .\n",
       "chr1-1290080-1290581 7.522558 . . . . . . . . . . . . . . . . . . . . . . . . .\n",
       "chr1-1291099-1291600 .        . . . . . . . . . . . . . . . . . . . . . . . . .\n",
       "chr1-1291742-1292243 .        . . . . . . . . . . . . . . . . . . . . . . . . .\n",
       "chr1-1327977-1328478 .        . . . . . . . . . . . . . . . . . . . . . . . . .\n",
       "                                                                               \n",
       "chr1-975451-975952   . . . . . . . . . . . . . 6.532999 . . . . . . . . . . . .\n",
       "chr1-1014228-1014729 . . . . . . . . . . . . . .        . . . . . . . . . . . .\n",
       "chr1-1290080-1290581 . . . . . . . . . . . . . .        . . . . . . . . . . . .\n",
       "chr1-1291099-1291600 . . . . . . . . . . . . . .        . . . . . . . . . . . .\n",
       "chr1-1291742-1292243 . . . . . . . . . . . . . .        . . . . . . . . . . . .\n",
       "chr1-1327977-1328478 . . . . . . . . . . . . . .        . . . . . . . . . . . .\n",
       "                                                                              \n",
       "chr1-975451-975952   . . . . . . . . . . . . . . . . . . . . . . . . . . . . .\n",
       "chr1-1014228-1014729 . . . . . . . . . . . . . . . . . . . . . . . . . . . . .\n",
       "chr1-1290080-1290581 . . . . . . . . . . . . . . . . . . . . . . . . . . . . .\n",
       "chr1-1291099-1291600 . . . . . . . . . . . . . . . . . . . . . . . . . . . . .\n",
       "chr1-1291742-1292243 . . . . . . . . . . . . . . . . . . . . . . . . . . . . .\n",
       "chr1-1327977-1328478 . . . . . . . . . . . . . . . . . . . . . . . . . . . . .\n",
       "                                                                              \n",
       "chr1-975451-975952   .        . . . . . . . . . . 6.562493 . . . . . . . . . .\n",
       "chr1-1014228-1014729 .        . . . . . . . . . . .        . . . . . . . . . .\n",
       "chr1-1290080-1290581 7.817828 . . . . . . . . . . .        . . . . . . . . . .\n",
       "chr1-1291099-1291600 .        . . . . . . . . . . .        . . . . . . . . . .\n",
       "chr1-1291742-1292243 .        . . . . . . . . . . .        . . . . . . . . . .\n",
       "chr1-1327977-1328478 .        . . . . . . . . . . .        . . . . . . . . . .\n",
       "                                                                              \n",
       "chr1-975451-975952   . . . . . . . . . . . . . . . . . . . . . . . . . . . . .\n",
       "chr1-1014228-1014729 . . . . . . . . . . . . . . . . . . . . . . . . . . . . .\n",
       "chr1-1290080-1290581 . . . . . . . . . . . . . . . . . . . . . . . . . . . . .\n",
       "chr1-1291099-1291600 . . . . . . . . . . . . . . . . . . . . . . . . . . . . .\n",
       "chr1-1291742-1292243 . . . . . . . . . . . . . . . . . . . . . . . . . . . . .\n",
       "chr1-1327977-1328478 . . . . . . . . . . . . . . . . . . . . . . . . . . . . .\n",
       "                                                                               \n",
       "chr1-975451-975952   . . . . . . . . . . . . . . . . . . . . . .        . . . .\n",
       "chr1-1014228-1014729 . . . . . . . . . . . . . . . . . . . . . 7.169692 . . . .\n",
       "chr1-1290080-1290581 . . . . . . . . . . . . . . . . . . . . . .        . . . .\n",
       "chr1-1291099-1291600 . . . . . . . . . . . . . . . . . . . . . .        . . . .\n",
       "chr1-1291742-1292243 . . . . . . . . . . . . . . . . . . . . . .        . . . .\n",
       "chr1-1327977-1328478 . . . . . . . . . . . . . . . . . . . . . .        . . . .\n",
       "                                                                              \n",
       "chr1-975451-975952   . . . . . . . . . . . . . . . . . . . . . . . . . . . . .\n",
       "chr1-1014228-1014729 . . . . . . . . . . . . . . . . . . . . . . . . . . . . .\n",
       "chr1-1290080-1290581 . . . . . . . . . . . . . . . . . . . . . . . . . . . . .\n",
       "chr1-1291099-1291600 . . . . . . . . . . . . . . . . . . . . . . . . . . . . .\n",
       "chr1-1291742-1292243 . . . . . . . . . . . . . . . . . . . . . . . . . . . . .\n",
       "chr1-1327977-1328478 . . . . . . . . . . . . . . . . . . . . . . . . . . . . .\n",
       "                                                                               \n",
       "chr1-975451-975952   . . . . . . . . . . . . . . . . . . .        . . . . . . .\n",
       "chr1-1014228-1014729 . . . . . . . . . . . . . . . . . . .        . . . . . . .\n",
       "chr1-1290080-1290581 . . . . . . . . . . . . . . . . . . 7.731052 . . . . . . .\n",
       "chr1-1291099-1291600 . . . . . . . . . . . . . . . . . . .        . . . . . . .\n",
       "chr1-1291742-1292243 . . . . . . . . . . . . . . . . . . .        . . . . . . .\n",
       "chr1-1327977-1328478 . . . . . . . . . . . . . . . . . . .        . . . . . . .\n",
       "                                                                              \n",
       "chr1-975451-975952   . . . . . . . . . . . . . . . . . . . . . . . . . . . . .\n",
       "chr1-1014228-1014729 . . . . . . . . . . . . . . . . . . . . . . . . . . . . .\n",
       "chr1-1290080-1290581 . . . . . . . . . . . . . . . . . . . . . . . . . . . . .\n",
       "chr1-1291099-1291600 . . . . . . . . . . . . . . . . . . . . . . . . . . . . .\n",
       "chr1-1291742-1292243 . . . . . . . . . . . . . . . . . . . . . . . . . . . . .\n",
       "chr1-1327977-1328478 . . . . . . . . . . . . . . . . . . . . . . . . . . . . .\n",
       "                                                                               \n",
       "chr1-975451-975952   . . . .        . . . . . . . . . . . . . . . . . . . . . .\n",
       "chr1-1014228-1014729 . . . .        . . . . . . . . . . . . . . . . . . . . . .\n",
       "chr1-1290080-1290581 . . . 7.165849 . . . . . . . . . . . . . . . . . . . . . .\n",
       "chr1-1291099-1291600 . . . .        . . . . . . . . . . . . . . . . . . . . . .\n",
       "chr1-1291742-1292243 . . . .        . . . . . . . . . . . . . . . . . . . . . .\n",
       "chr1-1327977-1328478 . . . .        . . . . . . . . . . . . . . . . . . . . . .\n",
       "                                                                              \n",
       "chr1-975451-975952   . . . . . . . . . . . . . . . . . . . . . . . . . . . . .\n",
       "chr1-1014228-1014729 . . . . . . . . . . . . . . . . . . . . . . . . . . . . .\n",
       "chr1-1290080-1290581 . . . . . . . . . . . . . . . . . . . . . . . . . . . . .\n",
       "chr1-1291099-1291600 . . . . . . . . . . . . . . . . . . . . . . . . . . . . .\n",
       "chr1-1291742-1292243 . . . . . . . . . . . . . . . . . . . . . . . . . . . . .\n",
       "chr1-1327977-1328478 . . . . . . . . . . . . . . . . . . . . . . . . . . . . .\n",
       "                                                                        \n",
       "chr1-975451-975952   . . . . .        . . . . .        . . . . . . . . .\n",
       "chr1-1014228-1014729 . . . . .        . . . . .        . . . . . . . . .\n",
       "chr1-1290080-1290581 . . . . 7.687191 . . . . .        . . . . . . . . .\n",
       "chr1-1291099-1291600 . . . . .        . . . . .        . . . . . . . . .\n",
       "chr1-1291742-1292243 . . . . .        . . . . 7.213279 . . . . . . . . .\n",
       "chr1-1327977-1328478 . . . . .        . . . . .        . . . . . . . . .\n",
       "                                                                              \n",
       "chr1-975451-975952   6.519147 . . . . . . .        . . . . . . . . . . . . . .\n",
       "chr1-1014228-1014729 .        . . . . . . .        . . . . . . . . . . . . . .\n",
       "chr1-1290080-1290581 .        . . . . . . .        . . . . . . . . . . . . . .\n",
       "chr1-1291099-1291600 .        . . . . . . 8.394187 . . . . . . . . . . . . . .\n",
       "chr1-1291742-1292243 .        . . . . . . .        . . . . . . . . . . . . . .\n",
       "chr1-1327977-1328478 .        . . . . . . .        . . . . . . . . . . . . . .\n",
       "                                                                              \n",
       "chr1-975451-975952   . .        . . . . . . . . . . . . . . . . . . 6.338267 .\n",
       "chr1-1014228-1014729 . .        . . . . . . . . . . . . . . . . . . .        .\n",
       "chr1-1290080-1290581 . .        . . . . . . . . . . . . . . . . . . .        .\n",
       "chr1-1291099-1291600 . .        . . . . . . . . . . . . . . . . . . .        .\n",
       "chr1-1291742-1292243 . .        . . . . . . . . . . . . . . . . . . .        .\n",
       "chr1-1327977-1328478 . 8.078137 . . . . . . . . . . . . . . . . . . .        .\n",
       "                                                                              \n",
       "chr1-975451-975952   . . . . . . .        . . . . . . . . . .        . . . . .\n",
       "chr1-1014228-1014729 . . . . . . 6.316639 . . . . . . . . . 6.832302 . . . . .\n",
       "chr1-1290080-1290581 . . . . . . .        . . . . . . . . . .        . . . . .\n",
       "chr1-1291099-1291600 . . . . . . .        . . . . . . . . . .        . . . . .\n",
       "chr1-1291742-1292243 . . . . . . .        . . . . . . . . . .        . . . . .\n",
       "chr1-1327977-1328478 . . . . . . .        . . . . . . . . . .        . . . . .\n",
       "                                                                               \n",
       "chr1-975451-975952   . . . . . . . . . . . . . . . . . . . . . . .        . . .\n",
       "chr1-1014228-1014729 . . . . . . . . . . . . . . . . . . . . . . .        . . .\n",
       "chr1-1290080-1290581 . . . . . . . . . . . . . . . . . . . . . . .        . . .\n",
       "chr1-1291099-1291600 . . . . . . . . . . . . . . . . . . . . . . 7.529579 . . .\n",
       "chr1-1291742-1292243 . . . . . . . . . . . . . . . . . . . . . . .        . . .\n",
       "chr1-1327977-1328478 . . . . . . . . . . . . . . . . . . . . . . .        . . .\n",
       "                                                                              \n",
       "chr1-975451-975952   . . . . . . . . . . . . . . . . . . . . . . . . . . . . .\n",
       "chr1-1014228-1014729 . . . . . . . . . . . . . . . . . . . . . . . . . . . . .\n",
       "chr1-1290080-1290581 . . . . . . . . . . . . . . . . . . . . . . . . . . . . .\n",
       "chr1-1291099-1291600 . . . . . . . . . . . . . . . . . . . . . . . . . . . . .\n",
       "chr1-1291742-1292243 . . . . . . . . . . . . . . . . . . . . . . . . . . . . .\n",
       "chr1-1327977-1328478 . . . . . . . . . . . . . . . . . . . . . . . . . . . . .\n",
       "                                                                              \n",
       "chr1-975451-975952   . . . . . . . . . . . . . . . . . . . . . . . . . . . . .\n",
       "chr1-1014228-1014729 . . . . . . . . . . . . . . . . . . . . . . . . . . . . .\n",
       "chr1-1290080-1290581 . . . . . . . . . . . . . . . . . . . . . . . . . . . . .\n",
       "chr1-1291099-1291600 . . . . . . . . . . . . . . . . . . . . . . . . . . . . .\n",
       "chr1-1291742-1292243 . . . . . . . . . . . . . . . . . . . . . . . . . . . . .\n",
       "chr1-1327977-1328478 . . . . . . . . . . . . . . . . . . . . . . . . . . . . .\n",
       "                                                                              \n",
       "chr1-975451-975952   . . . . . . . . . . . . . . . . . . . . . . . . . . . . .\n",
       "chr1-1014228-1014729 . . . . . . . . . . . . . . . . . . . . . . . . . . . . .\n",
       "chr1-1290080-1290581 . . . . . . . . . . . . . . . . . . . . . . . . . . . . .\n",
       "chr1-1291099-1291600 . . . . . . . . . . . . . . . . . . . . . . . . . . . . .\n",
       "chr1-1291742-1292243 . . . . . . . . . . . . . . . . . . . . . . . . . . . . .\n",
       "chr1-1327977-1328478 . . . . . . . . . . . . . . . . . . . . . . . . . . . . .\n",
       "                                                                              \n",
       "chr1-975451-975952   . . . . . . . . . . . . . . . . . . . . . . . . . . . . .\n",
       "chr1-1014228-1014729 . . . . . . . . . . . . . . . . . . . . . . . . . . . . .\n",
       "chr1-1290080-1290581 . . . . . . . . . . . . . . . . . . . . . . . . . . . . .\n",
       "chr1-1291099-1291600 . . . . . . . . . . . . . . . . . . . . . . . . . . . . .\n",
       "chr1-1291742-1292243 . . . . . . . . . . . . . . . . . . . . . . . . . . . . .\n",
       "chr1-1327977-1328478 . . . . . . . . . . . . . . . . . . . . . . . . . . . . .\n",
       "                                                                              \n",
       "chr1-975451-975952   . . . . . . . . . . . . . . . . . . . . . . . . . . . . .\n",
       "chr1-1014228-1014729 . . . . . . . . . . . . . . . . . . . . . . . . . . . . .\n",
       "chr1-1290080-1290581 . . . . . . . . . . . . . . . . . . . . . . . . . . . . .\n",
       "chr1-1291099-1291600 . . . . . . . . . . . . . . . . . . . . . . . . . . . . .\n",
       "chr1-1291742-1292243 . . . . . . . . . . . . . . . . . . . . . . . . . . . . .\n",
       "chr1-1327977-1328478 . . . . . . . . . . . . . . . . . . . . . . . . . . . . .\n",
       "                                                                               \n",
       "chr1-975451-975952   . . .        . . . . . . . . . . . . . . . . . . . . . . .\n",
       "chr1-1014228-1014729 . . 7.139638 . . . . . . . . . . . . . . . . . . . . . . .\n",
       "chr1-1290080-1290581 . . .        . . . . . . . . . . . . . . . . . . . . . . .\n",
       "chr1-1291099-1291600 . . .        . . . . . . . . . . . . . . . . . . . . . . .\n",
       "chr1-1291742-1292243 . . .        . . . . . . . . . . . . . . . . . . . . . . .\n",
       "chr1-1327977-1328478 . . .        . . . . . . . . . . . . . . . . . . . . . . .\n",
       "                                                                              \n",
       "chr1-975451-975952   . . . . . . . . . . . . . . . . . . . . . . . . . . . . .\n",
       "chr1-1014228-1014729 . . . . . . . . . . . . . . . . . . . . . . . . . . . . .\n",
       "chr1-1290080-1290581 . . . . . . . . . . . . . . . . . . . . . . . . . . . . .\n",
       "chr1-1291099-1291600 . . . . . . . . . . . . . . . . . . . . . . . . . . . . .\n",
       "chr1-1291742-1292243 . . . . . . . . . . . . . . . . . . . . . . . . . . . . .\n",
       "chr1-1327977-1328478 . . . . . . . . . . . . . . . . . . . . . . . . . . . . .\n",
       "                                                                               \n",
       "chr1-975451-975952   . . . . . . . . . . . . .        . . . . . . . . . . . . .\n",
       "chr1-1014228-1014729 . . . . . . . . . . . . .        . . . . . . . . . . . . .\n",
       "chr1-1290080-1290581 . . . . . . . . . . . . .        . . . . . . . . . . . . .\n",
       "chr1-1291099-1291600 . . . . . . . . . . . . .        . . . . . . . . . . . . .\n",
       "chr1-1291742-1292243 . . . . . . . . . . . . 6.797706 . . . . . . . . . . . . .\n",
       "chr1-1327977-1328478 . . . . . . . . . . . . .        . . . . . . . . . . . . .\n",
       "                                                                              \n",
       "chr1-975451-975952   . . . . . . . . . . . . . . . . . . . . . . . . . . . . .\n",
       "chr1-1014228-1014729 . . . . . . . . . . . . . . . . . . . . . . . . . . . . .\n",
       "chr1-1290080-1290581 . . . . . . . . . . . . . . . . . . . . . . . . . . . . .\n",
       "chr1-1291099-1291600 . . . . . . . . . . . . . . . . . . . . . . . . . . . . .\n",
       "chr1-1291742-1292243 . . . . . . . . . . . . . . . . . . . . . . . . . . . . .\n",
       "chr1-1327977-1328478 . . . . . . . . . . . . . . . . . . . . . . . . . . . . .\n",
       "                                                                              \n",
       "chr1-975451-975952   . . . . . . . . . . . . . . . . . . . . . . . . . . . . .\n",
       "chr1-1014228-1014729 . . . . . . . . . . . . . . . . . . . . . . . . . . . . .\n",
       "chr1-1290080-1290581 . . . . . . . . . . . . . . . . . . . . . . . . . . . . .\n",
       "chr1-1291099-1291600 . . . . . . . . . . . . . . . . . . . . . . . . . . . . .\n",
       "chr1-1291742-1292243 . . . . . . . . . . . . . . . . . . . . . . . . . . . . .\n",
       "chr1-1327977-1328478 . . . . . . . . . . . . . . . . . . . . . . . . . . . . .\n",
       "                                                                              \n",
       "chr1-975451-975952   . . . . . . . . . . . . . . . . . . . . . . . . . . . . .\n",
       "chr1-1014228-1014729 . . . . . . . . . . . . . . . . . . . . . . . . . . . . .\n",
       "chr1-1290080-1290581 . . . . . . . . . . . . . . . . . . . . . . . . . . . . .\n",
       "chr1-1291099-1291600 . . . . . . . . . . . . . . . . . . . . . . . . . . . . .\n",
       "chr1-1291742-1292243 . . . . . . . . . . . . . . . . . . . . . . . . . . . . .\n",
       "chr1-1327977-1328478 . . . . . . . . . . . . . . . . . . . . . . . . . . . . .\n",
       "                                                                               \n",
       "chr1-975451-975952   . . . . . . . . . . . . . . . .        . . . . . . . . . .\n",
       "chr1-1014228-1014729 . . . . . . . . . . . . . . . .        . . . . . . . . . .\n",
       "chr1-1290080-1290581 . . . . . . . . . . . . . . . .        . . . . . . . . . .\n",
       "chr1-1291099-1291600 . . . . . . . . . . . . . . . .        . . . . . . . . . .\n",
       "chr1-1291742-1292243 . . . . . . . . . . . . . . . 7.876046 . . . . . . . . . .\n",
       "chr1-1327977-1328478 . . . . . . . . . . . . . . . .        . . . . . . . . . .\n",
       "                                                                              \n",
       "chr1-975451-975952   . . . . . . . . . . . . . . . . . . . . . . . . . . . . .\n",
       "chr1-1014228-1014729 . . . . . . . . . . . . . . . . . . . . . . . . . . . . .\n",
       "chr1-1290080-1290581 . . . . . . . . . . . . . . . . . . . . . . . . . . . . .\n",
       "chr1-1291099-1291600 . . . . . . . . . . . . . . . . . . . . . . . . . . . . .\n",
       "chr1-1291742-1292243 . . . . . . . . . . . . . . . . . . . . . . . . . . . . .\n",
       "chr1-1327977-1328478 . . . . . . . . . . . . . . . . . . . . . . . . . . . . .\n",
       "                                                                              \n",
       "chr1-975451-975952   . . . . . . . . . . . . . . . 6.69619 . . . . . . . . . .\n",
       "chr1-1014228-1014729 . . . . . . . . . . . . . . . .       . . . . . . . . . .\n",
       "chr1-1290080-1290581 . . . . . . . . . . . . . . . .       . . . . . . . . . .\n",
       "chr1-1291099-1291600 . . . . . . . . . . . . . . . .       . . . . . . . . . .\n",
       "chr1-1291742-1292243 . . . . . . . . . . . . . . . .       . . . . . . . . . .\n",
       "chr1-1327977-1328478 . . . . . . . . . . . . . . . .       . . . . . . . . . .\n",
       "                                                                              \n",
       "chr1-975451-975952   . . . . . . . . . . . . . . . . . . . . . . . . . . . . .\n",
       "chr1-1014228-1014729 . . . . . . . . . . . . . . . . . . . . . . . . . . . . .\n",
       "chr1-1290080-1290581 . . . . . . . . . . . . . . . . . . . . . . . . . . . . .\n",
       "chr1-1291099-1291600 . . . . . . . . . . . . . . . . . . . . . . . . . . . . .\n",
       "chr1-1291742-1292243 . . . . . . . . . . . . . . . . . . . . . . . . . . . . .\n",
       "chr1-1327977-1328478 . . . . . . . . . . . . . . . . . . . . . . . . . . . . .\n",
       "                                                                              \n",
       "chr1-975451-975952   . . . . . . . . . . . . . . . . . . . . . . . . . . . . .\n",
       "chr1-1014228-1014729 . . . . . . . . . . . . . . . . . . . . . . . . . . . . .\n",
       "chr1-1290080-1290581 . . . . . . . . . . . . . . . . . . . . . . . . . . . . .\n",
       "chr1-1291099-1291600 . . . . . . . . . . . . . . . . . . . . . . . . . . . . .\n",
       "chr1-1291742-1292243 . . . . . . . . . . . . . . . . . . . . . . . . . . . . .\n",
       "chr1-1327977-1328478 . . . . . . . . . . . . . . . . . . . . . . . . . . . . .\n",
       "                                                                              \n",
       "chr1-975451-975952   . . . . . . . . . . . . . . . . . . . . . . . . . . . . .\n",
       "chr1-1014228-1014729 . . . . . . . . . . . . . . . . . . . . . . . . . . . . .\n",
       "chr1-1290080-1290581 . . . . . . . . . . . . . . . . . . . . . . . . . . . . .\n",
       "chr1-1291099-1291600 . . . . . . . . . . . . . . . . . . . . . . . . . . . . .\n",
       "chr1-1291742-1292243 . . . . . . . . . . . . . . . . . . . . . . . . . . . . .\n",
       "chr1-1327977-1328478 . . . . . . . . . . . . . . . . . . . . . . . . . . . . .\n",
       "                                                                              \n",
       "chr1-975451-975952   . . . . . . . . . .        . . . . . . .        . . . . .\n",
       "chr1-1014228-1014729 . . . . . . . . . .        . . . . . . 6.864083 . . . . .\n",
       "chr1-1290080-1290581 . . . . . . . . . .        . . . . . . .        . . . . .\n",
       "chr1-1291099-1291600 . . . . . . . . . .        . . . . . . .        . . . . .\n",
       "chr1-1291742-1292243 . . . . . . . . . 7.662863 . . . . . . .        . . . . .\n",
       "chr1-1327977-1328478 . . . . . . . . . .        . . . . . . .        . . . . .\n",
       "                                                                          \n",
       "chr1-975451-975952   . . . . . . . . . . . . . . . . . . . . . . . . . . .\n",
       "chr1-1014228-1014729 . . . . . . . . . . . . . . . . . . . . . . . . . . .\n",
       "chr1-1290080-1290581 . . . . . . . . . . . . . . . . . . . . . . . . . . .\n",
       "chr1-1291099-1291600 . . . . . . . . . . . . . . . . . . . . . . . . . . .\n",
       "chr1-1291742-1292243 . . . . . . . . . . . . . . . . . . . . . . . . . . .\n",
       "chr1-1327977-1328478 . . . . . . . . . . . . . . . . . . . . . . . . . . .\n",
       "                                                                               \n",
       "chr1-975451-975952   6.783409 . . . . . . .        . . . . . . .        . . . .\n",
       "chr1-1014228-1014729 .        . . . . . . 6.907118 . . . . . . .        . . . .\n",
       "chr1-1290080-1290581 .        . . . . . . .        . . . . . . 7.062128 . . . .\n",
       "chr1-1291099-1291600 .        . . . . . . .        . . . . . . .        . . . .\n",
       "chr1-1291742-1292243 .        . . . . . . .        . . . . . . .        . . . .\n",
       "chr1-1327977-1328478 .        . . . . . . .        . . . . . . .        . . . .\n",
       "                                                                              \n",
       "chr1-975451-975952   . . . . . . . . . . . . . . . . . . . . . . . . . . . . .\n",
       "chr1-1014228-1014729 . . . . . . . . . . . . . . . . . . . . . . . . . . . . .\n",
       "chr1-1290080-1290581 . . . . . . . . . . . . . . . . . . . . . . . . . . . . .\n",
       "chr1-1291099-1291600 . . . . . . . . . . . . . . . . . . . . . . . . . . . . .\n",
       "chr1-1291742-1292243 . . . . . . . . . . . . . . . . . . . . . . . . . . . . .\n",
       "chr1-1327977-1328478 . . . . . . . . . . . . . . . . . . . . . . . . . . . . .\n",
       "                                                                              \n",
       "chr1-975451-975952   . . . . . . . . . . . . . . . . . . . . . . . . . . . . .\n",
       "chr1-1014228-1014729 . . . . . . . . . . . . . . . . . . . . . . . . . . . . .\n",
       "chr1-1290080-1290581 . . . . . . . . . . . . . . . . . . . . . . . . . . . . .\n",
       "chr1-1291099-1291600 . . . . . . . . . . . . . . . . . . . . . . . . . . . . .\n",
       "chr1-1291742-1292243 . . . . . . . . . . . . . . . . . . . . . . . . . . . . .\n",
       "chr1-1327977-1328478 . . . . . . . . . . . . . . . . . . . . . . . . . . . . .\n",
       "                                                                              \n",
       "chr1-975451-975952   . . . . . . . . . . . . . . . . . . . . . .       . . . .\n",
       "chr1-1014228-1014729 . . . . . . . . . . . . . . . . . . . . . 6.47446 . . . .\n",
       "chr1-1290080-1290581 . . . . . . . . . . . . . . . . . . . . . .       . . . .\n",
       "chr1-1291099-1291600 . . . . . . . . . . . . . . . . . . . . . .       . . . .\n",
       "chr1-1291742-1292243 . . . . . . . . . . . . . . . . . . . . . .       . . . .\n",
       "chr1-1327977-1328478 . . . . . . . . . . . . . . . . . . . . . .       . . . .\n",
       "                                                                              \n",
       "chr1-975451-975952   . . . . . . . . . . . . . . . . . . . . . . . . . . . . .\n",
       "chr1-1014228-1014729 . . . . . . . . . . . . . . . . . . . . . . . . . . . . .\n",
       "chr1-1290080-1290581 . . . . . . . . . . . . . . . . . . . . . . . . . . . . .\n",
       "chr1-1291099-1291600 . . . . . . . . . . . . . . . . . . . . . . . . . . . . .\n",
       "chr1-1291742-1292243 . . . . . . . . . . . . . . . . . . . . . . . . . . . . .\n",
       "chr1-1327977-1328478 . . . . . . . . . . . . . . . . . . . . . . . . . . . . .\n",
       "                                                                               \n",
       "chr1-975451-975952   . . . . . . . . . . . . .        . . . . . . . . . . . . .\n",
       "chr1-1014228-1014729 . . . . . . . . . . . . 6.701819 . . . . . . . . . . . . .\n",
       "chr1-1290080-1290581 . . . . . . . . . . . . .        . . . . . . . . . . . . .\n",
       "chr1-1291099-1291600 . . . . . . . . . . . . .        . . . . . . . . . . . . .\n",
       "chr1-1291742-1292243 . . . . . . . . . . . . .        . . . . . . . . . . . . .\n",
       "chr1-1327977-1328478 . . . . . . . . . . . . .        . . . . . . . . . . . . .\n",
       "                                                                               \n",
       "chr1-975451-975952   . . . . 6.912432 . . . . . . . . . . . . . . . . . . . . .\n",
       "chr1-1014228-1014729 . . . . .        . . . . . . . . . . . . . . . . . . . . .\n",
       "chr1-1290080-1290581 . . . . .        . . . . . . . . . . . . . . . . . . . . .\n",
       "chr1-1291099-1291600 . . . . .        . . . . . . . . . . . . . . . . . . . . .\n",
       "chr1-1291742-1292243 . . . . .        . . . . . . . . . . . . . . . . . . . . .\n",
       "chr1-1327977-1328478 . . . . .        . . . . . . . . . . . . . . . . . . . . .\n",
       "                                                                              \n",
       "chr1-975451-975952   . . . . . . . . . . . . . . . . . . . . . . . . . . . . .\n",
       "chr1-1014228-1014729 . . . . . . . . . . . . . . . . . . . . . . . . . . . . .\n",
       "chr1-1290080-1290581 . . . . . . . . . . . . . . . . . . . . . . . . . . . . .\n",
       "chr1-1291099-1291600 . . . . . . . . . . . . . . . . . . . . . . . . . . . . .\n",
       "chr1-1291742-1292243 . . . . . . . . . . . . . . . . . . . . . . . . . . . . .\n",
       "chr1-1327977-1328478 . . . . . . . . . . . . . . . . . . . . . . . . . . . . .\n",
       "                                                                               \n",
       "chr1-975451-975952   . .        . . . . . . . . . . . . . . . . . . . . . . . .\n",
       "chr1-1014228-1014729 . .        . . . . . . . . . . . . . . . . . . . . . . . .\n",
       "chr1-1290080-1290581 . 7.341973 . . . . . . . . . . . . . . . . . . . . . . . .\n",
       "chr1-1291099-1291600 . .        . . . . . . . . . . . . . . . . . . . . . . . .\n",
       "chr1-1291742-1292243 . .        . . . . . . . . . . . . . . . . . . . . . . . .\n",
       "chr1-1327977-1328478 . .        . . . . . . . . . . . . . . . . . . . . . . . .\n",
       "                                                                               \n",
       "chr1-975451-975952   . . . . . . . .        6.752515 . . . .        . . . . . .\n",
       "chr1-1014228-1014729 . . . . . . . .        .        . . . .        . . . . . .\n",
       "chr1-1290080-1290581 . . . . . . . .        .        . . . .        . . . . . .\n",
       "chr1-1291099-1291600 . . . . . . . .        .        . . . .        . . . . . .\n",
       "chr1-1291742-1292243 . . . . . . . 8.712766 .        . . . 7.910089 . . . . . .\n",
       "chr1-1327977-1328478 . . . . . . . .        .        . . . .        . . . . . .\n",
       "                                                                               \n",
       "chr1-975451-975952   . . . . . 7.227748 . . . . . . . . . . . . . . . . . . . .\n",
       "chr1-1014228-1014729 . . . . . .        . . . . . . . . . . . . . . . . . . . .\n",
       "chr1-1290080-1290581 . . . . . .        . . . . . . . . . . . . . . . . . . . .\n",
       "chr1-1291099-1291600 . . . . . .        . . . . . . . . . . . . . . . . . . . .\n",
       "chr1-1291742-1292243 . . . . . .        . . . . . . . . . . . . . . . . . . . .\n",
       "chr1-1327977-1328478 . . . . . .        . . . . . . . . . . . . . . . . . . . .\n",
       "                                                                              \n",
       "chr1-975451-975952   . . . . . . . . . . . . . . . . . . . . . . . . . . . . .\n",
       "chr1-1014228-1014729 . . . . . . . . . . . . . . . . . . . . . . . . . . . . .\n",
       "chr1-1290080-1290581 . . . . . . . . . . . . . . . . . . . . . . . . . . . . .\n",
       "chr1-1291099-1291600 . . . . . . . . . . . . . . . . . . . . . . . . . . . . .\n",
       "chr1-1291742-1292243 . . . . . . . . . . . . . . . . . . . . . . . . . . . . .\n",
       "chr1-1327977-1328478 . . . . . . . . . . . . . . . . . . . . . . . . . . . . .\n",
       "                                                                              \n",
       "chr1-975451-975952   . . . . . . . . . . . . . . . . . . . . . . . . . . . . .\n",
       "chr1-1014228-1014729 . . . . . . . . . . . . . . . . . . . . . . . . . . . . .\n",
       "chr1-1290080-1290581 . . . . . . . . . . . . . . . . . . . . . . . . . . . . .\n",
       "chr1-1291099-1291600 . . . . . . . . . . . . . . . . . . . . . . . . . . . . .\n",
       "chr1-1291742-1292243 . . . . . . . . . . . . . . . . . . . . . . . . . . . . .\n",
       "chr1-1327977-1328478 . . . . . . . . . . . . . . . . . . . . . . . . . . . . .\n",
       "                                                                             \n",
       "chr1-975451-975952   . . . . 6.8914 . . . . .        . . . . . . 6.843454 . .\n",
       "chr1-1014228-1014729 . . . . .      . . . . 6.590706 . . . . . . .        . .\n",
       "chr1-1290080-1290581 . . . . .      . . . . .        . . . . . . .        . .\n",
       "chr1-1291099-1291600 . . . . .      . . . . .        . . . . . . .        . .\n",
       "chr1-1291742-1292243 . . . . .      . . . . .        . . . . . . .        . .\n",
       "chr1-1327977-1328478 . . . . .      . . . . .        . . . . . . .        . .\n",
       "                                                                              \n",
       "chr1-975451-975952   6.912432 . . . . . .        . . . . . . . . . . . . . . .\n",
       "chr1-1014228-1014729 .        . . . . . .        . . . . . . . . . . . . . . .\n",
       "chr1-1290080-1290581 .        . . . . . .        . . . . . . . . . . . . . . .\n",
       "chr1-1291099-1291600 .        . . . . . .        . . . . . . . . . . . . . . .\n",
       "chr1-1291742-1292243 .        . . . . . .        . . . . . . . . . . . . . . .\n",
       "chr1-1327977-1328478 .        . . . . . 7.767609 . . . . . . . . . . . . . . .\n",
       "                                                                               \n",
       "chr1-975451-975952   . . . . . . . . . . .        . . . . . . . . . . . . . . .\n",
       "chr1-1014228-1014729 . . . . . . . . . . 6.737657 . . . . . . . . . . . . . . .\n",
       "chr1-1290080-1290581 . . . . . . . . . . .        . . . . . . . . . . . . . . .\n",
       "chr1-1291099-1291600 . . . . . . . . . . .        . . . . . . . . . . . . . . .\n",
       "chr1-1291742-1292243 . . . . . . . . . . .        . . . . . . . . . . . . . . .\n",
       "chr1-1327977-1328478 . . . . . . . . . . .        . . . . . . . . . . . . . . .\n",
       "                                                                       \n",
       "chr1-975451-975952   . . . . . . . . . . . .        . . . . . . . . . .\n",
       "chr1-1014228-1014729 . . . . . . . . . . . 6.778689 . . . . . . . . . .\n",
       "chr1-1290080-1290581 . . . . . . . . . . . .        . . . . . . . . . .\n",
       "chr1-1291099-1291600 . . . . . . . . . . . .        . . . . . . . . . .\n",
       "chr1-1291742-1292243 . . . . . . . . . . . .        . . . . . . . . . .\n",
       "chr1-1327977-1328478 . . . . . . . . . . . .        . . . . . . . . . .\n",
       "                                                                               \n",
       "chr1-975451-975952   6.174627 . . . . . . . . . . . . . . . . . . . . . . . . .\n",
       "chr1-1014228-1014729 .        . . . . . . . . . . . . . . . . . . . . . . . . .\n",
       "chr1-1290080-1290581 .        . . . . . . . . . . . . . . . . . . . . . . . . .\n",
       "chr1-1291099-1291600 .        . . . . . . . . . . . . . . . . . . . . . . . . .\n",
       "chr1-1291742-1292243 .        . . . . . . . . . . . . . . . . . . . . . . . . .\n",
       "chr1-1327977-1328478 .        . . . . . . . . . . . . . . . . . . . . . . . . .\n",
       "                                                                              \n",
       "chr1-975451-975952   . . . . . . . . . . . . . .       . . . . . . . . . . . .\n",
       "chr1-1014228-1014729 . . . . . . . . . . . . . .       . . . . . . . . . . . .\n",
       "chr1-1290080-1290581 . . . . . . . . . . . . . .       . . . . . . . . . . . .\n",
       "chr1-1291099-1291600 . . . . . . . . . . . . . 7.54164 . . . . . . . . . . . .\n",
       "chr1-1291742-1292243 . . . . . . . . . . . . . .       . . . . . . . . . . . .\n",
       "chr1-1327977-1328478 . . . . . . . . . . . . . .       . . . . . . . . . . . .\n",
       "                                                                               \n",
       "chr1-975451-975952   . . . . . . . . . . . . . . . . . . . . . . . . . .       \n",
       "chr1-1014228-1014729 . . . . . . . . . . . . . . . . . . . . . . . . . .       \n",
       "chr1-1290080-1290581 . . . . . . . . . . . . . . . . . . . . . . . . . .       \n",
       "chr1-1291099-1291600 . . . . . . . . . . . . . . . . . . . . . . . . . .       \n",
       "chr1-1291742-1292243 . . . . . . . . . . . . . . . . . . . . . . . . . 8.003175\n",
       "chr1-1327977-1328478 . . . . . . . . . . . . . . . . . . . . . . . . . .       \n",
       "                                                                       \n",
       "chr1-975451-975952   . . . . . . . . . .        . . . . . . . . . . . .\n",
       "chr1-1014228-1014729 . . . . . . . . . .        . . . . . . . . . . . .\n",
       "chr1-1290080-1290581 . . . . . . . . . 7.798923 . . . . . . . . . . . .\n",
       "chr1-1291099-1291600 . . . . . . . . . .        . . . . . . . . . . . .\n",
       "chr1-1291742-1292243 . . . . . . . . . .        . . . . . . . . . . . .\n",
       "chr1-1327977-1328478 . . . . . . . . . .        . . . . . . . . . . . .\n",
       "                                                                               \n",
       "chr1-975451-975952   6.127874 . . . . . . . . . . . . . . . . . . . . . . . . .\n",
       "chr1-1014228-1014729 .        . . . . . . . . . . . . . . . . . . . . . . . . .\n",
       "chr1-1290080-1290581 .        . . . . . . . . . . . . . . . . . . . . . . . . .\n",
       "chr1-1291099-1291600 .        . . . . . . . . . . . . . . . . . . . . . . . . .\n",
       "chr1-1291742-1292243 .        . . . . . . . . . . . . . . . . . . . . . . . . .\n",
       "chr1-1327977-1328478 .        . . . . . . . . . . . . . . . . . . . . . . . . .\n",
       "                                                                              \n",
       "chr1-975451-975952   . . . . . . . . . . . . . . . . . . . . . . . . . . . . .\n",
       "chr1-1014228-1014729 . . . . . . . . . . . . . . . . . . . . . . . . . . . . .\n",
       "chr1-1290080-1290581 . . . . . . . . . . . . . . . . . . . . . . . . . . . . .\n",
       "chr1-1291099-1291600 . . . . . . . . . . . . . . . . . . . . . . . . . . . . .\n",
       "chr1-1291742-1292243 . . . . . . . . . . . . . . . . . . . . . . . . . . . . .\n",
       "chr1-1327977-1328478 . . . . . . . . . . . . . . . . . . . . . . . . . . . . .\n",
       "                                                                         \n",
       "chr1-975451-975952   . . . . . . . . . . . . . . . . . . . . . . .       \n",
       "chr1-1014228-1014729 . . . . . . . . . . . . . . . . . . . . . . 6.728423\n",
       "chr1-1290080-1290581 . . . . . . . . . . . . . . . . . . . . . . .       \n",
       "chr1-1291099-1291600 . . . . . . . . . . . . . . . . . . . . . . .       \n",
       "chr1-1291742-1292243 . . . . . . . . . . . . . . . . . . . . . . .       \n",
       "chr1-1327977-1328478 . . . . . . . . . . . . . . . . . . . . . . .       \n",
       "                                                                               \n",
       "chr1-975451-975952   .        . . . . . . . . . . . . . . . . . . . . . . . . .\n",
       "chr1-1014228-1014729 .        . . . . . . . . . . . . . . . . . . . . . . . . .\n",
       "chr1-1290080-1290581 7.267069 . . . . . . . . . . . . . . . . . . . . . . . . .\n",
       "chr1-1291099-1291600 .        . . . . . . . . . . . . . . . . . . . . . . . . .\n",
       "chr1-1291742-1292243 .        . . . . . . . . . . . . . . . . . . . . . . . . .\n",
       "chr1-1327977-1328478 .        . . . . . . . . . . . . . . . . . . . . . . . . .\n",
       "                                                                               \n",
       "chr1-975451-975952   . . . . . . . . . . . . . . . . . . . . .        . . . . .\n",
       "chr1-1014228-1014729 . . . . . . . . . . . . . . . . . . . . .        . . . . .\n",
       "chr1-1290080-1290581 . . . . . . . . . . . . . . . . . . . . .        . . . . .\n",
       "chr1-1291099-1291600 . . . . . . . . . . . . . . . . . . . . 7.870706 . . . . .\n",
       "chr1-1291742-1292243 . . . . . . . . . . . . . . . . . . . . .        . . . . .\n",
       "chr1-1327977-1328478 . . . . . . . . . . . . . . . . . . . . .        . . . . .\n",
       "                                                                              \n",
       "chr1-975451-975952   . . . . . . . . . . . . . . . . . . . . . . . . . . . . .\n",
       "chr1-1014228-1014729 . . . . . . . . . . . . . . . . . . . . . . . . . . . . .\n",
       "chr1-1290080-1290581 . . . . . . . . . . . . . . . . . . . . . . . . . . . . .\n",
       "chr1-1291099-1291600 . . . . . . . . . . . . . . . . . . . . . . . . . . . . .\n",
       "chr1-1291742-1292243 . . . . . . . . . . . . . . . . . . . . . . . . . . . . .\n",
       "chr1-1327977-1328478 . . . . . . . . . . . . . . . . . . . . . . . . . . . . .\n",
       "                                                                              \n",
       "chr1-975451-975952   . . . . . . . . . . . . . . . . . . . . . . . . . . . . .\n",
       "chr1-1014228-1014729 . . . . . . . . . . . . . . . . . . . . . . . . . . . . .\n",
       "chr1-1290080-1290581 . . . . . . . . . . . . . . . . . . . . . . . . . . . . .\n",
       "chr1-1291099-1291600 . . . . . . . . . . . . . . . . . . . . . . . . . . . . .\n",
       "chr1-1291742-1292243 . . . . . . . . . . . . . . . . . . . . . . . . . . . . .\n",
       "chr1-1327977-1328478 . . . . . . . . . . . . . . . . . . . . . . . . . . . . .\n",
       "                                                                              \n",
       "chr1-975451-975952   . . . . . . . . . . . . . . . . . . . . . . . . . . . . .\n",
       "chr1-1014228-1014729 . . . . . . . . . . . . . . . . . . . . . . . . . . . . .\n",
       "chr1-1290080-1290581 . . . . . . . . . . . . . . . . . . . . . . . . . . . . .\n",
       "chr1-1291099-1291600 . . . . . . . . . . . . . . . . . . . . . . . . . . . . .\n",
       "chr1-1291742-1292243 . . . . . . . . . . . . . . . . . . . . . . . . . . . . .\n",
       "chr1-1327977-1328478 . . . . . . . . . . . . . . . . . . . . . . . . . . . . .\n",
       "                                                                               \n",
       "chr1-975451-975952   . . . . . . . . . . . . . . . . . . . . . . . . . 6.282488\n",
       "chr1-1014228-1014729 . . . . . . . . . . . . . . . . . . . . . . . . . .       \n",
       "chr1-1290080-1290581 . . . . . . . . . . . . . . . . . . . . . . . . . .       \n",
       "chr1-1291099-1291600 . . . . . . . . . . . . . . . . . . . . . . . . . .       \n",
       "chr1-1291742-1292243 . . . . . . . . . . . . . . . . . . . . . . . . . .       \n",
       "chr1-1327977-1328478 . . . . . . . . . . . . . . . . . . . . . . . . . .       \n",
       "                                                                              \n",
       "chr1-975451-975952   . . . . . . . . . . . . . . . . . . . . . . . . . . . . .\n",
       "chr1-1014228-1014729 . . . . . . . . . . . . . . . . . . . . . . . . . . . . .\n",
       "chr1-1290080-1290581 . . . . . . . . . . . . . . . . . . . . . . . . . . . . .\n",
       "chr1-1291099-1291600 . . . . . . . . . . . . . . . . . . . . . . . . . . . . .\n",
       "chr1-1291742-1292243 . . . . . . . . . . . . . . . . . . . . . . . . . . . . .\n",
       "chr1-1327977-1328478 . . . . . . . . . . . . . . . . . . . . . . . . . . . . .\n",
       "                                                                              \n",
       "chr1-975451-975952   . . . . .       . . . . . . . . . . . . . . . . . . . . .\n",
       "chr1-1014228-1014729 . . . . .       . . . . . . . . . . . . . . . . . . . . .\n",
       "chr1-1290080-1290581 . . . . .       . . . . . . . . . . . . . . . . . . . . .\n",
       "chr1-1291099-1291600 . . . . 7.89315 . . . . . . . . . . . . . . . . . . . . .\n",
       "chr1-1291742-1292243 . . . . .       . . . . . . . . . . . . . . . . . . . . .\n",
       "chr1-1327977-1328478 . . . . .       . . . . . . . . . . . . . . . . . . . . .\n",
       "                                                                              \n",
       "chr1-975451-975952   . . . . . . . . . . . . . . . . . . . . . . . . . . . . .\n",
       "chr1-1014228-1014729 . . . . . . . . . . . . . . . . . . . . . . . . . . . . .\n",
       "chr1-1290080-1290581 . . . . . . . . . . . . . . . . . . . . . . . . . . . . .\n",
       "chr1-1291099-1291600 . . . . . . . . . . . . . . . . . . . . . . . . . . . . .\n",
       "chr1-1291742-1292243 . . . . . . . . . . . . . . . . . . . . . . . . . . . . .\n",
       "chr1-1327977-1328478 . . . . . . . . . . . . . . . . . . . . . . . . . . . . .\n",
       "                                                                              \n",
       "chr1-975451-975952   . . . . . . . . . . . . .       . . . . . . . . . . . . .\n",
       "chr1-1014228-1014729 . . . . . . . . . . . . .       . . . . . . . . . . . . .\n",
       "chr1-1290080-1290581 . . . . . . . . . . . . .       . . . . . . . . . . . . .\n",
       "chr1-1291099-1291600 . . . . . . . . . . . . .       . . . . . . . . . . . . .\n",
       "chr1-1291742-1292243 . . . . . . . . . . . . .       . . . . . . . . . . . . .\n",
       "chr1-1327977-1328478 . . . . . . . . . . . . 7.43331 . . . . . . . . . . . . .\n",
       "                                                                           \n",
       "chr1-975451-975952   . . . . . . . . .        . . . . . . . . . . . . . . .\n",
       "chr1-1014228-1014729 . . . . . . . . 7.764412 . . . . . . . . . . . . . . .\n",
       "chr1-1290080-1290581 . . . . . . . . .        . . . . . . . . . . . . . . .\n",
       "chr1-1291099-1291600 . . . . . . . . .        . . . . . . . . . . . . . . .\n",
       "chr1-1291742-1292243 . . . . . . . . .        . . . . . . . . . . . . . . .\n",
       "chr1-1327977-1328478 . . . . . . . . .        . . . . . . . . . . . . . . .\n",
       "                                                                               \n",
       "chr1-975451-975952   .        . . . . . . . . . . . . . . . . . . . . . . . . .\n",
       "chr1-1014228-1014729 .        . . . . . . . . . . . . . . . . . . . . . . . . .\n",
       "chr1-1290080-1290581 .        . . . . . . . . . . . . . . . . . . . . . . . . .\n",
       "chr1-1291099-1291600 8.744177 . . . . . . . . . . . . . . . . . . . . . . . . .\n",
       "chr1-1291742-1292243 .        . . . . . . . . . . . . . . . . . . . . . . . . .\n",
       "chr1-1327977-1328478 .        . . . . . . . . . . . . . . . . . . . . . . . . .\n",
       "                                                                               \n",
       "chr1-975451-975952   . . . . . . . .        . . . .        . . . 7.651215 . . .\n",
       "chr1-1014228-1014729 . . . . . . . 6.796898 . . . .        . . . .        . . .\n",
       "chr1-1290080-1290581 . . . . . . . .        . . . 8.120636 . . . .        . . .\n",
       "chr1-1291099-1291600 . . . . . . . .        . . . 7.775918 . . . .        . . .\n",
       "chr1-1291742-1292243 . . . . . . . .        . . . .        . . . .        . . .\n",
       "chr1-1327977-1328478 . . . . . . . .        . . . .        . . . .        . . .\n",
       "                                                                               \n",
       "chr1-975451-975952   . . . .        . . . . . . . . . . . . . . . . . . . . . .\n",
       "chr1-1014228-1014729 . . . .        . . . . . . . . . . . . . . . . . . . . . .\n",
       "chr1-1290080-1290581 . . . .        . . . . . . . . . . . . . . . . . . . . . .\n",
       "chr1-1291099-1291600 . . . .        . . . . . . . . . . . . . . . . . . . . . .\n",
       "chr1-1291742-1292243 . . . 7.363691 . . . . . . . . . . . . . . . . . . . . . .\n",
       "chr1-1327977-1328478 . . . .        . . . . . . . . . . . . . . . . . . . . . .\n",
       "                                                                               \n",
       "chr1-975451-975952   . . . . .       . . . . . . . . . . 7.053766 . . . . . . .\n",
       "chr1-1014228-1014729 . . . . .       . . . . . . . . . . .        . . . . . . .\n",
       "chr1-1290080-1290581 . . . . .       . . . . . . . . . . .        . . . . . . .\n",
       "chr1-1291099-1291600 . . . . 8.40171 . . . . . . . . . . .        . . . . . . .\n",
       "chr1-1291742-1292243 . . . . .       . . . . . . . . . . .        . . . . . . .\n",
       "chr1-1327977-1328478 . . . . .       . . . . . . . . . . .        . . . . . . .\n",
       "                                                                               \n",
       "chr1-975451-975952   . . . . . . . . . . . . 7.623107 . . . . . . . . . . . . .\n",
       "chr1-1014228-1014729 . . . . . . . . . . . . .        . . . . . . . . . . . . .\n",
       "chr1-1290080-1290581 . . . . . . . . . . . . .        . . . . . . . . . . . . .\n",
       "chr1-1291099-1291600 . . . . . . . . . . . . .        . . . . . . . . . . . . .\n",
       "chr1-1291742-1292243 . . . . . . . . . . . . .        . . . . . . . . . . . . .\n",
       "chr1-1327977-1328478 . . . . . . . . . . . . .        . . . . . . . . . . . . .\n",
       "                                                                               \n",
       "chr1-975451-975952   . . . . . . . . . . . . .        . . . . . . . . . . . . .\n",
       "chr1-1014228-1014729 . . . . . . . . . . . . 5.401599 . . . . . . . . . . . . .\n",
       "chr1-1290080-1290581 . . . . . . . . . . . . .        . . . . . . . . . . . . .\n",
       "chr1-1291099-1291600 . . . . . . . . . . . . .        . . . . . . . . . . . . .\n",
       "chr1-1291742-1292243 . . . . . . . . . . . . .        . . . . . . . . . . . . .\n",
       "chr1-1327977-1328478 . . . . . . . . . . . . .        . . . . . . . . . . . . .\n",
       "                                                                               \n",
       "chr1-975451-975952   . . . . . . . . . 5.649753 . . . . . . . .       . . . . .\n",
       "chr1-1014228-1014729 . . . . . . . . . .        . . . . . . . 7.08037 . . . . .\n",
       "chr1-1290080-1290581 . . . . . . . . . .        . . . . . . . .       . . . . .\n",
       "chr1-1291099-1291600 . . . . . . . . . .        . . . . . . . .       . . . . .\n",
       "chr1-1291742-1292243 . . . . . . . . . .        . . . . . . . .       . . . . .\n",
       "chr1-1327977-1328478 . . . . . . . . . .        . . . . . . . .       . . . . .\n",
       "                                                                              \n",
       "chr1-975451-975952   . . . . . . . . . . . . . . . . . . . . . . . . . . . . .\n",
       "chr1-1014228-1014729 . . . . . . . . . . . . . . . . . . . . . . . . . . . . .\n",
       "chr1-1290080-1290581 . . . . . . . . . . . . . . . . . . . . . . . . . . . . .\n",
       "chr1-1291099-1291600 . . . . . . . . . . . . . . . . . . . . . . . . . . . . .\n",
       "chr1-1291742-1292243 . . . . . . . . . . . . . . . . . . . . . . . . . . . . .\n",
       "chr1-1327977-1328478 . . . . . . . . . . . . . . . . . . . . . . . . . . . . .\n",
       "                                                                              \n",
       "chr1-975451-975952   . . . . . . . . . . . . . . . . . . . . . . . .       . .\n",
       "chr1-1014228-1014729 . . . . . . . . . . . . . . . . . . . . . . . .       . .\n",
       "chr1-1290080-1290581 . . . . . . . . . . . . . . . . . . . . . . . .       . .\n",
       "chr1-1291099-1291600 . . . . . . . . . . . . . . . . . . . . . . . .       . .\n",
       "chr1-1291742-1292243 . . . . . . . . . . . . . . . . . . . . . . . .       . .\n",
       "chr1-1327977-1328478 . . . . . . . . . . . . . . . . . . . . . . . 7.95414 . .\n",
       "                                                                              \n",
       "chr1-975451-975952   . . . . . . . . . . . . . . .        .        . . . . . .\n",
       "chr1-1014228-1014729 . . . . . . . . . . . . . . .        .        . . . . . .\n",
       "chr1-1290080-1290581 . . . . . . . . . . . . . . .        6.682592 . . . . . .\n",
       "chr1-1291099-1291600 . . . . . . . . . . . . . . .        .        . . . . . .\n",
       "chr1-1291742-1292243 . . . . . . . . . . . . . . 7.572446 .        . . . . . .\n",
       "chr1-1327977-1328478 . . . . . . . . . . . . . . .        .        . . . . . .\n",
       "                                                                               \n",
       "chr1-975451-975952   . . . . . . . . . . . . . . . . . . . . . . . .        . .\n",
       "chr1-1014228-1014729 . . . . . . . . . . . . . . . . . . . . . . . .        . .\n",
       "chr1-1290080-1290581 . . . . . . . . . . . . . . . . . . . . . . . .        . .\n",
       "chr1-1291099-1291600 . . . . . . . . . . . . . . . . . . . . . . . 7.686391 . .\n",
       "chr1-1291742-1292243 . . . . . . . . . . . . . . . . . . . . . . . .        . .\n",
       "chr1-1327977-1328478 . . . . . . . . . . . . . . . . . . . . . . . .        . .\n",
       "                                                                            \n",
       "chr1-975451-975952   . . . . . . . . . . . . . . . . . . . . . . . . . . . .\n",
       "chr1-1014228-1014729 . . . . . . . . . . . . . . . . . . . . . . . . . . . .\n",
       "chr1-1290080-1290581 . . . . . . . . . . . . . . . . . . . . . . . . . . . .\n",
       "chr1-1291099-1291600 . . . . . . . . . . . . . . . . . . . . . . . . . . . .\n",
       "chr1-1291742-1292243 . . . . . . . . . . . . . . . . . . . . . . . . . . . .\n",
       "chr1-1327977-1328478 . . . . . . . . . . . . . . . . . . . . . . . . . . . .\n",
       "                                                                               \n",
       "chr1-975451-975952   6.53766 . . . .        . . . . . . . . . . . . . . . . . .\n",
       "chr1-1014228-1014729 .       . . . 6.748851 . . . . . . . . . . . . . . . . . .\n",
       "chr1-1290080-1290581 .       . . . .        . . . . . . . . . . . . . . . . . .\n",
       "chr1-1291099-1291600 .       . . . .        . . . . . . . . . . . . . . . . . .\n",
       "chr1-1291742-1292243 .       . . . .        . . . . . . . . . . . . . . . . . .\n",
       "chr1-1327977-1328478 .       . . . .        . . . . . . . . . . . . . . . . . .\n",
       "                                                                               \n",
       "chr1-975451-975952   . . . . . . . . . . . . . . . . . . . .        . . . . . .\n",
       "chr1-1014228-1014729 . . . . . . . . . . . . . . . . . . . .        . . . . . .\n",
       "chr1-1290080-1290581 . . . . . . . . . . . . . . . . . . . .        . . . . . .\n",
       "chr1-1291099-1291600 . . . . . . . . . . . . . . . . . . . .        . . . . . .\n",
       "chr1-1291742-1292243 . . . . . . . . . . . . . . . . . . . .        . . . . . .\n",
       "chr1-1327977-1328478 . . . . . . . . . . . . . . . . . . . 7.323109 . . . . . .\n",
       "                                                                            \n",
       "chr1-975451-975952   . . . . . . . . . . . . . . . . . . . .       . . . . .\n",
       "chr1-1014228-1014729 . . . . . . . . . . . . . . . . . . . .       . . . . .\n",
       "chr1-1290080-1290581 . . . . . . . . . . . . . . . . . . . .       . . . . .\n",
       "chr1-1291099-1291600 . . . . . . . . . . . . . . . . . . . .       . . . . .\n",
       "chr1-1291742-1292243 . . . . . . . . . . . . . . . . . . . 7.42641 . . . . .\n",
       "chr1-1327977-1328478 . . . . . . . . . . . . . . . . . . . .       . . . . .\n",
       "                                                                       \n",
       "chr1-975451-975952   .        . . . . . . . . . . . . . . . . . . . . .\n",
       "chr1-1014228-1014729 .        . . . . . . . . . . . . . . . . . . . . .\n",
       "chr1-1290080-1290581 7.768945 . . . . . . . . . . . . . . . . . . . . .\n",
       "chr1-1291099-1291600 .        . . . . . . . . . . . . . . . . . . . . .\n",
       "chr1-1291742-1292243 .        . . . . . . . . . . . . . . . . . . . . .\n",
       "chr1-1327977-1328478 .        . . . . . . . . . . . . . . . . . . . . .\n",
       "                                                                               \n",
       "chr1-975451-975952   .        . . . . . . . . . . . . . . . . . . . . . . . . .\n",
       "chr1-1014228-1014729 .        . . . . . . . . . . . . . . . . . . . . . . . . .\n",
       "chr1-1290080-1290581 .        . . . . . . . . . . . . . . . . . . . . . . . . .\n",
       "chr1-1291099-1291600 .        . . . . . . . . . . . . . . . . . . . . . . . . .\n",
       "chr1-1291742-1292243 7.283496 . . . . . . . . . . . . . . . . . . . . . . . . .\n",
       "chr1-1327977-1328478 .        . . . . . . . . . . . . . . . . . . . . . . . . .\n",
       "                                                                               \n",
       "chr1-975451-975952   . . . . . . . . . . . . . . .        . . . . . . . . . . .\n",
       "chr1-1014228-1014729 . . . . . . . . . . . . . . 6.170229 . . . . . . . . . . .\n",
       "chr1-1290080-1290581 . . . . . . . . . . . . . . .        . . . . . . . . . . .\n",
       "chr1-1291099-1291600 . . . . . . . . . . . . . . .        . . . . . . . . . . .\n",
       "chr1-1291742-1292243 . . . . . . . . . . . . . . .        . . . . . . . . . . .\n",
       "chr1-1327977-1328478 . . . . . . . . . . . . . . .        . . . . . . . . . . .\n",
       "                                                                               \n",
       "chr1-975451-975952   . . . . . . . . . . . . . . . . . . .        . . . . . . .\n",
       "chr1-1014228-1014729 . . . . . . . . . . . . . . . . . . .        . . . . . . .\n",
       "chr1-1290080-1290581 . . . . . . . . . . . . . . . . . . .        . . . . . . .\n",
       "chr1-1291099-1291600 . . . . . . . . . . . . . . . . . . .        . . . . . . .\n",
       "chr1-1291742-1292243 . . . . . . . . . . . . . . . . . . .        . . . . . . .\n",
       "chr1-1327977-1328478 . . . . . . . . . . . . . . . . . . 7.114687 . . . . . . .\n",
       "                                                                              \n",
       "chr1-975451-975952   . .       . . . . . . . . . . . . . . . . . . . . . . . .\n",
       "chr1-1014228-1014729 . .       . . . . . . . . . . . . . . . . . . . . . . . .\n",
       "chr1-1290080-1290581 . .       . . . . . . . . . . . . . . . . . . . . . . . .\n",
       "chr1-1291099-1291600 . .       . . . . . . . . . . . . . . . . . . . . . . . .\n",
       "chr1-1291742-1292243 . 6.86066 . . . . . . . . . . . . . . . . . . . . . . . .\n",
       "chr1-1327977-1328478 . .       . . . . . . . . . . . . . . . . . . . . . . . .\n",
       "                                                                              \n",
       "chr1-975451-975952   . . . . . . . . . . . . . . . . . 6.81298 . . . . . . . .\n",
       "chr1-1014228-1014729 . . . . . . . . . . . . . . . . . .       . . . . . . . .\n",
       "chr1-1290080-1290581 . . . . . . . . . . . . . . . . . .       . . . . . . . .\n",
       "chr1-1291099-1291600 . . . . . . . . . . . . . . . . . .       . . . . . . . .\n",
       "chr1-1291742-1292243 . . . . . . . . . . . . . . . . . .       . . . . . . . .\n",
       "chr1-1327977-1328478 . . . . . . . . . . . . . . . . . .       . . . . . . . .\n",
       "                                                                               \n",
       "chr1-975451-975952   . . . . . . . . . . . . . . . . . . . 7.084604 . . . . . .\n",
       "chr1-1014228-1014729 . . . . . . . . . . . . . . . . . . . .        . . . . . .\n",
       "chr1-1290080-1290581 . . . . . . . . . . . . . . . . . . . .        . . . . . .\n",
       "chr1-1291099-1291600 . . . . . . . . . . . . . . . . . . . .        . . . . . .\n",
       "chr1-1291742-1292243 . . . . . . . . . . . . . . . . . . . .        . . . . . .\n",
       "chr1-1327977-1328478 . . . . . . . . . . . . . . . . . . . .        . . . . . .\n",
       "                                                                               \n",
       "chr1-975451-975952   . . . . . . . . . .        . . . . . . . . . . . . . . . .\n",
       "chr1-1014228-1014729 . . . . . . . . . .        . . . . . . . . . . . . . . . .\n",
       "chr1-1290080-1290581 . . . . . . . . . .        . . . . . . . . . . . . . . . .\n",
       "chr1-1291099-1291600 . . . . . . . . . .        . . . . . . . . . . . . . . . .\n",
       "chr1-1291742-1292243 . . . . . . . . . .        . . . . . . . . . . . . . . . .\n",
       "chr1-1327977-1328478 . . . . . . . . . 8.490351 . . . . . . . . . . . . . . . .\n",
       "                                                                               \n",
       "chr1-975451-975952   . . . .        . . . . . . . . . . . . . . . . . . . . . .\n",
       "chr1-1014228-1014729 . . . .        . . . . . . . . . . . . . . . . . . . . . .\n",
       "chr1-1290080-1290581 . . . .        . . . . . . . . . . . . . . . . . . . . . .\n",
       "chr1-1291099-1291600 . . . .        . . . . . . . . . . . . . . . . . . . . . .\n",
       "chr1-1291742-1292243 . . . .        . . . . . . . . . . . . . . . . . . . . . .\n",
       "chr1-1327977-1328478 . . . 8.206181 . . . . . . . . . . . . . . . . . . . . . .\n",
       "                                                                              \n",
       "chr1-975451-975952   . . . . . . . . . . . . . . . . . . . . . . . . . . . . .\n",
       "chr1-1014228-1014729 . . . . . . . . . . . . . . . . . . . . . . . . . . . . .\n",
       "chr1-1290080-1290581 . . . . . . . . . . . . . . . . . . . . . . . . . . . . .\n",
       "chr1-1291099-1291600 . . . . . . . . . . . . . . . . . . . . . . . . . . . . .\n",
       "chr1-1291742-1292243 . . . . . . . . . . . . . . . . . . . . . . . . . . . . .\n",
       "chr1-1327977-1328478 . . . . . . . . . . . . . . . . . . . . . . . . . . . . .\n",
       "                                                                              \n",
       "chr1-975451-975952   . . . . . . . . . . . . . . . . . . . . . . . . . . . . .\n",
       "chr1-1014228-1014729 . . . . . . . . . . . . . . . . . . . . . . . . . . . . .\n",
       "chr1-1290080-1290581 . . . . . . . . . . . . . . . . . . . . . . . . . . . . .\n",
       "chr1-1291099-1291600 . . . . . . . . . . . . . . . . . . . . . . . . . . . . .\n",
       "chr1-1291742-1292243 . . . . . . . . . . . . . . . . . . . . . . . . . . . . .\n",
       "chr1-1327977-1328478 . . . . . . . . . . . . . . . . . . . . . . . . . . . . .\n",
       "                                                                              \n",
       "chr1-975451-975952   . . . . . . . . . . . . . . . . . . . . . . . . . . . . .\n",
       "chr1-1014228-1014729 . . . . . . . . . . . . . . . . . . . . . . . . . . . . .\n",
       "chr1-1290080-1290581 . . . . . . . . . . . . . . . . . . . . . . . . . . . . .\n",
       "chr1-1291099-1291600 . . . . . . . . . . . . . . . . . . . . . . . . . . . . .\n",
       "chr1-1291742-1292243 . . . . . . . . . . . . . . . . . . . . . . . . . . . . .\n",
       "chr1-1327977-1328478 . . . . . . . . . . . . . . . . . . . . . . . . . . . . .\n",
       "                                                                              \n",
       "chr1-975451-975952   . . . . . . . . . . . . . . . . . . . . . . . . . . . . .\n",
       "chr1-1014228-1014729 . . . . . . . . . . . . . . . . . . . . . . . . . . . . .\n",
       "chr1-1290080-1290581 . . . . . . . . . . . . . . . . . . . . . . . . . . . . .\n",
       "chr1-1291099-1291600 . . . . . . . . . . . . . . . . . . . . . . . . . . . . .\n",
       "chr1-1291742-1292243 . . . . . . . . . . . . . . . . . . . . . . . . . . . . .\n",
       "chr1-1327977-1328478 . . . . . . . . . . . . . . . . . . . . . . . . . . . . .\n",
       "                                                                               \n",
       "chr1-975451-975952   . .        . . . . . . . . . . . . . . . . . . . . . . . .\n",
       "chr1-1014228-1014729 . .        . . . . . . . . . . . . . . . . . . . . . . . .\n",
       "chr1-1290080-1290581 . .        . . . . . . . . . . . . . . . . . . . . . . . .\n",
       "chr1-1291099-1291600 . 8.218678 . . . . . . . . . . . . . . . . . . . . . . . .\n",
       "chr1-1291742-1292243 . .        . . . . . . . . . . . . . . . . . . . . . . . .\n",
       "chr1-1327977-1328478 . .        . . . . . . . . . . . . . . . . . . . . . . . .\n",
       "                                                                              \n",
       "chr1-975451-975952   . . . . . . . . . . . . . . . . . . . . . . . . . . . . .\n",
       "chr1-1014228-1014729 . . . . . . . . . . . . . . . . . . . . . . . . . . . . .\n",
       "chr1-1290080-1290581 . . . . . . . . . . . . . . . . . . . . . . . . . . . . .\n",
       "chr1-1291099-1291600 . . . . . . . . . . . . . . . . . . . . . . . . . . . . .\n",
       "chr1-1291742-1292243 . . . . . . . . . . . . . . . . . . . . . . . . . . . . .\n",
       "chr1-1327977-1328478 . . . . . . . . . . . . . . . . . . . . . . . . . . . . .\n",
       "                                                                               \n",
       "chr1-975451-975952   . . . . . . . . . . . . . . . . .        . . . . . . . . .\n",
       "chr1-1014228-1014729 . . . . . . . . . . . . . . . . 7.307496 . . . . . . . . .\n",
       "chr1-1290080-1290581 . . . . . . . . . . . . . . . . .        . . . . . . . . .\n",
       "chr1-1291099-1291600 . . . . . . . . . . . . . . . . .        . . . . . . . . .\n",
       "chr1-1291742-1292243 . . . . . . . . . . . . . . . . .        . . . . . . . . .\n",
       "chr1-1327977-1328478 . . . . . . . . . . . . . . . . .        . . . . . . . . .\n",
       "                                                                               \n",
       "chr1-975451-975952   . . . . . . . . . 7.295278 . . . . . . . . . . . . . . . .\n",
       "chr1-1014228-1014729 . . . . . . . . . .        . . . . . . . . . . . . . . . .\n",
       "chr1-1290080-1290581 . . . . . . . . . .        . . . . . . . . . . . . . . . .\n",
       "chr1-1291099-1291600 . . . . . . . . . .        . . . . . . . . . . . . . . . .\n",
       "chr1-1291742-1292243 . . . . . . . . . .        . . . . . . . . . . . . . . . .\n",
       "chr1-1327977-1328478 . . . . . . . . . .        . . . . . . . . . . . . . . . .\n",
       "                                                                              \n",
       "chr1-975451-975952   . . . . . . . 6.964795 .        . . . . . . . . . . . . .\n",
       "chr1-1014228-1014729 . . . . . . . .        .        . . . . . . . . . . . . .\n",
       "chr1-1290080-1290581 . . . . . . . .        .        . . . . . . . . . . . . .\n",
       "chr1-1291099-1291600 . . . . . . . .        8.394187 . . . . . . . . . . . . .\n",
       "chr1-1291742-1292243 . . . . . . . .        8.171100 . . . . . . . . . . . . .\n",
       "chr1-1327977-1328478 . . . . . . . .        .        . . . . . . . . . . . . .\n",
       "                                                                              \n",
       "chr1-975451-975952   . . . . . . . . . . . . . . . . . . . . . . . . . . . . .\n",
       "chr1-1014228-1014729 . . . . . . . . . . . . . . . . . . . . . . . . . . . . .\n",
       "chr1-1290080-1290581 . . . . . . . . . . . . . . . . . . . . . . . . . . . . .\n",
       "chr1-1291099-1291600 . . . . . . . . . . . . . . . . . . . . . . . . . . . . .\n",
       "chr1-1291742-1292243 . . . . . . . . . . . . . . . . . . . . . . . . . . . . .\n",
       "chr1-1327977-1328478 . . . . . . . . . . . . . . . . . . . . . . . . . . . . .\n",
       "                                                                              \n",
       "chr1-975451-975952   . . . . . . . . . . . . . . . . . . . . . . . . . . . . .\n",
       "chr1-1014228-1014729 . . . . . . . . . . . . . . . . . . . . . . . . . . . . .\n",
       "chr1-1290080-1290581 . . . . . . . . . . . . . . . . . . . . . . . . . . . . .\n",
       "chr1-1291099-1291600 . . . . . . . . . . . . . . . . . . . . . . . . . . . . .\n",
       "chr1-1291742-1292243 . . . . . . . . . . . . . . . . . . . . . . . . . . . . .\n",
       "chr1-1327977-1328478 . . . . . . . . . . . . . . . . . . . . . . . . . . . . .\n",
       "                                                                              \n",
       "chr1-975451-975952   . . . . . . . . . . . . . . . . . . . . . . . . . . . . .\n",
       "chr1-1014228-1014729 . . . . . . . . . . . . . . . . . . . . . . . . . . . . .\n",
       "chr1-1290080-1290581 . . . . . . . . . . . . . . . . . . . . . . . . . . . . .\n",
       "chr1-1291099-1291600 . . . . . . . . . . . . . . . . . . . . . . . . . . . . .\n",
       "chr1-1291742-1292243 . . . . . . . . . . . . . . . . . . . . . . . . . . . . .\n",
       "chr1-1327977-1328478 . . . . . . . . . . . . . . . . . . . . . . . . . . . . .\n",
       "                                                                              \n",
       "chr1-975451-975952   . . . . . . . . . . . . .       . . . . . . . . . . . . .\n",
       "chr1-1014228-1014729 . . . . . . . . . . . . 7.34998 . . . . . . . . . . . . .\n",
       "chr1-1290080-1290581 . . . . . . . . . . . . .       . . . . . . . . . . . . .\n",
       "chr1-1291099-1291600 . . . . . . . . . . . . .       . . . . . . . . . . . . .\n",
       "chr1-1291742-1292243 . . . . . . . . . . . . .       . . . . . . . . . . . . .\n",
       "chr1-1327977-1328478 . . . . . . . . . . . . .       . . . . . . . . . . . . .\n",
       "                                                                              \n",
       "chr1-975451-975952   . . . . . . . . . . . . . . .        . . . . . .        .\n",
       "chr1-1014228-1014729 . . . . . . . . . . . . . . .        . . . . . 6.688778 .\n",
       "chr1-1290080-1290581 . . . . . . . . . . . . . . 8.368659 . . . . . .        .\n",
       "chr1-1291099-1291600 . . . . . . . . . . . . . . .        . . . . . .        .\n",
       "chr1-1291742-1292243 . . . . . . . . . . . . . . .        . . . . . .        .\n",
       "chr1-1327977-1328478 . . . . . . . . . . . . . . .        . . . . . .        .\n",
       "                                              \n",
       "chr1-975451-975952   . . . . . . . . . . . . .\n",
       "chr1-1014228-1014729 . . . . . . . . . . . . .\n",
       "chr1-1290080-1290581 . . . . . . . . . . . . .\n",
       "chr1-1291099-1291600 . . . . . . . . . . . . .\n",
       "chr1-1291742-1292243 . . . . . . . . . . . . .\n",
       "chr1-1327977-1328478 . . . . . . . . . . . . ."
      ]
     },
     "metadata": {},
     "output_type": "display_data"
    }
   ],
   "source": [
    "head(signac_filtered@assays$peaks@data)"
   ]
  },
  {
   "cell_type": "markdown",
   "metadata": {},
   "source": [
    "# DCA - Peaks denoiser\n",
    "\n",
    "On terminal, in a Python environment with TensorFlow, such as `anndatas` run:\n",
    "```sh\n",
    "dca signac_filtered_brca_q0_peak_bc_matrix.csv output/sATAC_preprocessing/dca_peaks_q0_brca \\\n",
    " --threads 3 \\\n",
    " --nosizefactors --nonorminput --nologinput \\\n",
    " --saveweights\n",
    "```"
   ]
  },
  {
   "cell_type": "code",
   "execution_count": null,
   "metadata": {
    "vscode": {
     "languageId": "r"
    }
   },
   "outputs": [],
   "source": []
  },
  {
   "cell_type": "markdown",
   "metadata": {},
   "source": [
    "---"
   ]
  },
  {
   "cell_type": "code",
   "execution_count": 77,
   "metadata": {
    "vscode": {
     "languageId": "r"
    }
   },
   "outputs": [],
   "source": [
    "PATH_TO_SAMPLE_NEW_POSITION_LIST <- \"../4_clustering_and_classification/output/UNI2-h/satac_C1_v3_allspots_&_visium_FFPE_dcis_idc_10X_img_not_changed_allspots/on_individual_samples/tissue_position_list_with_6_kmeans_clusters_visium_FFPE_dcis_idc_10X_&_img_not_changed_allspots_&_target_is_reference_full_100um_fromWSI_histomicsTK_macenko_nomasking.csv\""
   ]
  },
  {
   "cell_type": "markdown",
   "metadata": {},
   "source": []
  },
  {
   "cell_type": "code",
   "execution_count": null,
   "metadata": {
    "vscode": {
     "languageId": "r"
    }
   },
   "outputs": [],
   "source": [
    "infoTable$spotfiles <- paste0(strsplit(infoTable$spotfiles, \".csv\"), \"_positions_list.csv\")\n",
    "se <- InputFromTable(infoTable, scaleVisium = 1)\n",
    "se <- LoadImages(se, time.resolve = F)\n",
    "signac_filtered@tools[[\"Staffli\"]] <- se@tools$Staffli # create STutility object for spatial plots"
   ]
  },
  {
   "cell_type": "code",
   "execution_count": 24,
   "metadata": {
    "vscode": {
     "languageId": "r"
    }
   },
   "outputs": [
    {
     "data": {
      "text/plain": [
       "An object of class \"SimpleAssays\"\n",
       "Slot \"data\":\n",
       "List of length 1\n"
      ]
     },
     "metadata": {},
     "output_type": "display_data"
    }
   ],
   "source": [
    "Assays(combined)"
   ]
  },
  {
   "cell_type": "code",
   "execution_count": null,
   "metadata": {
    "vscode": {
     "languageId": "r"
    }
   },
   "outputs": [],
   "source": [
    "peak_counts <- combined@assays$peaks@counts\n",
    "peak_counts"
   ]
  },
  {
   "cell_type": "code",
   "execution_count": null,
   "metadata": {
    "vscode": {
     "languageId": "r"
    }
   },
   "outputs": [],
   "source": [
    "normalized_data <- combined@assays$peaks@data\n",
    "normalized_data"
   ]
  },
  {
   "cell_type": "code",
   "execution_count": null,
   "metadata": {
    "vscode": {
     "languageId": "r"
    }
   },
   "outputs": [],
   "source": [
    "peak_accessibility <- FetchData(combined, vars = \"chr1-975451-975952\")\n",
    "peak_accessibility"
   ]
  },
  {
   "cell_type": "code",
   "execution_count": 46,
   "metadata": {
    "vscode": {
     "languageId": "r"
    }
   },
   "outputs": [
    {
     "data": {
      "text/html": [],
      "text/latex": [],
      "text/markdown": [],
      "text/plain": [
       "<0 x 0 matrix>"
      ]
     },
     "metadata": {},
     "output_type": "display_data"
    }
   ],
   "source": [
    "scaled_data <- combined@assays$peaks@scale.data\n",
    "scaled_data"
   ]
  },
  {
   "cell_type": "code",
   "execution_count": null,
   "metadata": {
    "vscode": {
     "languageId": "r"
    }
   },
   "outputs": [],
   "source": [
    "# BiocManager::install(\"EnsDb.Hsapiens.v86\")\n",
    "# BiocManager::install(\"BSgenome.Hsapiens.UCSC.hg38\")\n",
    "# devtools::install_github(\"jbergenstrahle/STUtility\")\n",
    "# remotes::install_github('satijalab/seurat-wrappers')\n",
    "# devtools::install_github('cole-trapnell-lab/monocle3')\n",
    "# devtools::install_github(\"GreenleafLab/ArchR\", ref=\"master\", repos = BiocManager::repositories())"
   ]
  },
  {
   "cell_type": "code",
   "execution_count": 26,
   "metadata": {
    "vscode": {
     "languageId": "r"
    }
   },
   "outputs": [
    {
     "data": {
      "text/plain": [
       "An object of class Seurat \n",
       "215978 features across 9866 samples within 1 assay \n",
       "Active assay: peaks (215978 features, 0 variable features)\n",
       " 2 layers present: counts, data"
      ]
     },
     "metadata": {},
     "output_type": "display_data"
    }
   ],
   "source": [
    "combined"
   ]
  },
  {
   "cell_type": "code",
   "execution_count": 29,
   "metadata": {
    "vscode": {
     "languageId": "r"
    }
   },
   "outputs": [
    {
     "data": {
      "text/plain": [
       "ChromatinAssay data with 215978 features for 9866 cells\n",
       "Variable features: 0 \n",
       "Genome: \n",
       "Annotation present: FALSE \n",
       "Motifs present: FALSE \n",
       "Fragment files: 3 "
      ]
     },
     "metadata": {},
     "output_type": "display_data"
    }
   ],
   "source": [
    "combined[[\"peaks\"]]"
   ]
  },
  {
   "cell_type": "code",
   "execution_count": 34,
   "metadata": {
    "vscode": {
     "languageId": "r"
    }
   },
   "outputs": [
    {
     "data": {
      "text/plain": [
       "NULL"
      ]
     },
     "metadata": {},
     "output_type": "display_data"
    }
   ],
   "source": [
    "combined[[\"peaks\"]][\"annotation\"]"
   ]
  },
  {
   "cell_type": "code",
   "execution_count": null,
   "metadata": {
    "vscode": {
     "languageId": "r"
    }
   },
   "outputs": [],
   "source": [
    "peak_counts <- layer(combined)"
   ]
  },
  {
   "cell_type": "code",
   "execution_count": null,
   "metadata": {
    "vscode": {
     "languageId": "r"
    }
   },
   "outputs": [],
   "source": [
    "combined$data"
   ]
  },
  {
   "cell_type": "code",
   "execution_count": 21,
   "metadata": {
    "vscode": {
     "languageId": "r"
    }
   },
   "outputs": [
    {
     "data": {
      "text/html": [
       "<table class=\"dataframe\">\n",
       "<caption>A data.frame: 6 × 29</caption>\n",
       "<thead>\n",
       "\t<tr><th></th><th scope=col>orig.ident</th><th scope=col>nCount_peaks</th><th scope=col>nFeature_peaks</th><th scope=col>total</th><th scope=col>duplicate</th><th scope=col>chimeric</th><th scope=col>unmapped</th><th scope=col>lowmapq</th><th scope=col>mitochondrial</th><th scope=col>nonprimary</th><th scope=col>⋯</th><th scope=col>peak_region_fragments</th><th scope=col>peak_region_cutsites</th><th scope=col>section</th><th scope=col>sample</th><th scope=col>barcode</th><th scope=col>tissue</th><th scope=col>y</th><th scope=col>x</th><th scope=col>pixel_y</th><th scope=col>pixel_x</th></tr>\n",
       "\t<tr><th></th><th scope=col>&lt;chr&gt;</th><th scope=col>&lt;dbl&gt;</th><th scope=col>&lt;int&gt;</th><th scope=col>&lt;int&gt;</th><th scope=col>&lt;int&gt;</th><th scope=col>&lt;int&gt;</th><th scope=col>&lt;int&gt;</th><th scope=col>&lt;int&gt;</th><th scope=col>&lt;int&gt;</th><th scope=col>&lt;int&gt;</th><th scope=col>⋯</th><th scope=col>&lt;int&gt;</th><th scope=col>&lt;int&gt;</th><th scope=col>&lt;chr&gt;</th><th scope=col>&lt;int&gt;</th><th scope=col>&lt;chr&gt;</th><th scope=col>&lt;int&gt;</th><th scope=col>&lt;int&gt;</th><th scope=col>&lt;int&gt;</th><th scope=col>&lt;int&gt;</th><th scope=col>&lt;int&gt;</th></tr>\n",
       "</thead>\n",
       "<tbody>\n",
       "\t<tr><th scope=row>AAACAAGGGATCAAAT-1_1</th><td>SeuratProject</td><td>1639</td><td>1602</td><td>45222</td><td>19934</td><td>127</td><td>445</td><td>5367</td><td>12977</td><td>17</td><td>⋯</td><td>1033</td><td>1896</td><td>220327_C1</td><td>1</td><td>AAACAAGGGATCAAAT-1_1</td><td>1</td><td>32</td><td>72</td><td>8425</td><td>32857</td></tr>\n",
       "\t<tr><th scope=row>AAACAGCAGTCTGCTA-1_1</th><td>SeuratProject</td><td>1282</td><td>1256</td><td>31808</td><td>15667</td><td> 76</td><td>239</td><td>3535</td><td> 7173</td><td>13</td><td>⋯</td><td> 795</td><td>1485</td><td>220327_C1</td><td>1</td><td>AAACAGCAGTCTGCTA-1_1</td><td>1</td><td>47</td><td>33</td><td>6475</td><td>34162</td></tr>\n",
       "\t<tr><th scope=row>AAACATTCGGGATTCT-1_1</th><td>SeuratProject</td><td>1360</td><td>1346</td><td>32228</td><td>15483</td><td> 54</td><td>334</td><td>3816</td><td> 7440</td><td>15</td><td>⋯</td><td> 883</td><td>1630</td><td>220327_C1</td><td>1</td><td>AAACATTCGGGATTCT-1_1</td><td>1</td><td>47</td><td>23</td><td>5975</td><td>34162</td></tr>\n",
       "\t<tr><th scope=row>AAACCTGGCACACCCT-1_1</th><td>SeuratProject</td><td>2024</td><td>1975</td><td>51321</td><td>25784</td><td> 66</td><td>442</td><td>5787</td><td>10593</td><td>56</td><td>⋯</td><td>1239</td><td>2313</td><td>220327_C1</td><td>1</td><td>AAACCTGGCACACCCT-1_1</td><td>1</td><td>22</td><td>34</td><td>6525</td><td>31987</td></tr>\n",
       "\t<tr><th scope=row>AAACGCCGCGTTTCGA-1_1</th><td>SeuratProject</td><td> 240</td><td> 240</td><td> 5814</td><td> 2589</td><td> 21</td><td> 56</td><td> 657</td><td> 1587</td><td> 1</td><td>⋯</td><td> 139</td><td> 260</td><td>220327_C1</td><td>1</td><td>AAACGCCGCGTTTCGA-1_1</td><td>1</td><td>25</td><td>93</td><td>9475</td><td>32248</td></tr>\n",
       "\t<tr><th scope=row>AAACGCGGCGAAAGTA-1_1</th><td>SeuratProject</td><td> 617</td><td> 610</td><td>15876</td><td> 7621</td><td> 34</td><td>144</td><td>1964</td><td> 3731</td><td>10</td><td>⋯</td><td> 385</td><td> 703</td><td>220327_C1</td><td>1</td><td>AAACGCGGCGAAAGTA-1_1</td><td>1</td><td>39</td><td>91</td><td>9375</td><td>33466</td></tr>\n",
       "</tbody>\n",
       "</table>\n"
      ],
      "text/latex": [
       "A data.frame: 6 × 29\n",
       "\\begin{tabular}{r|lllllllllllllllllllll}\n",
       "  & orig.ident & nCount\\_peaks & nFeature\\_peaks & total & duplicate & chimeric & unmapped & lowmapq & mitochondrial & nonprimary & ⋯ & peak\\_region\\_fragments & peak\\_region\\_cutsites & section & sample & barcode & tissue & y & x & pixel\\_y & pixel\\_x\\\\\n",
       "  & <chr> & <dbl> & <int> & <int> & <int> & <int> & <int> & <int> & <int> & <int> & ⋯ & <int> & <int> & <chr> & <int> & <chr> & <int> & <int> & <int> & <int> & <int>\\\\\n",
       "\\hline\n",
       "\tAAACAAGGGATCAAAT-1\\_1 & SeuratProject & 1639 & 1602 & 45222 & 19934 & 127 & 445 & 5367 & 12977 & 17 & ⋯ & 1033 & 1896 & 220327\\_C1 & 1 & AAACAAGGGATCAAAT-1\\_1 & 1 & 32 & 72 & 8425 & 32857\\\\\n",
       "\tAAACAGCAGTCTGCTA-1\\_1 & SeuratProject & 1282 & 1256 & 31808 & 15667 &  76 & 239 & 3535 &  7173 & 13 & ⋯ &  795 & 1485 & 220327\\_C1 & 1 & AAACAGCAGTCTGCTA-1\\_1 & 1 & 47 & 33 & 6475 & 34162\\\\\n",
       "\tAAACATTCGGGATTCT-1\\_1 & SeuratProject & 1360 & 1346 & 32228 & 15483 &  54 & 334 & 3816 &  7440 & 15 & ⋯ &  883 & 1630 & 220327\\_C1 & 1 & AAACATTCGGGATTCT-1\\_1 & 1 & 47 & 23 & 5975 & 34162\\\\\n",
       "\tAAACCTGGCACACCCT-1\\_1 & SeuratProject & 2024 & 1975 & 51321 & 25784 &  66 & 442 & 5787 & 10593 & 56 & ⋯ & 1239 & 2313 & 220327\\_C1 & 1 & AAACCTGGCACACCCT-1\\_1 & 1 & 22 & 34 & 6525 & 31987\\\\\n",
       "\tAAACGCCGCGTTTCGA-1\\_1 & SeuratProject &  240 &  240 &  5814 &  2589 &  21 &  56 &  657 &  1587 &  1 & ⋯ &  139 &  260 & 220327\\_C1 & 1 & AAACGCCGCGTTTCGA-1\\_1 & 1 & 25 & 93 & 9475 & 32248\\\\\n",
       "\tAAACGCGGCGAAAGTA-1\\_1 & SeuratProject &  617 &  610 & 15876 &  7621 &  34 & 144 & 1964 &  3731 & 10 & ⋯ &  385 &  703 & 220327\\_C1 & 1 & AAACGCGGCGAAAGTA-1\\_1 & 1 & 39 & 91 & 9375 & 33466\\\\\n",
       "\\end{tabular}\n"
      ],
      "text/markdown": [
       "\n",
       "A data.frame: 6 × 29\n",
       "\n",
       "| <!--/--> | orig.ident &lt;chr&gt; | nCount_peaks &lt;dbl&gt; | nFeature_peaks &lt;int&gt; | total &lt;int&gt; | duplicate &lt;int&gt; | chimeric &lt;int&gt; | unmapped &lt;int&gt; | lowmapq &lt;int&gt; | mitochondrial &lt;int&gt; | nonprimary &lt;int&gt; | ⋯ ⋯ | peak_region_fragments &lt;int&gt; | peak_region_cutsites &lt;int&gt; | section &lt;chr&gt; | sample &lt;int&gt; | barcode &lt;chr&gt; | tissue &lt;int&gt; | y &lt;int&gt; | x &lt;int&gt; | pixel_y &lt;int&gt; | pixel_x &lt;int&gt; |\n",
       "|---|---|---|---|---|---|---|---|---|---|---|---|---|---|---|---|---|---|---|---|---|---|\n",
       "| AAACAAGGGATCAAAT-1_1 | SeuratProject | 1639 | 1602 | 45222 | 19934 | 127 | 445 | 5367 | 12977 | 17 | ⋯ | 1033 | 1896 | 220327_C1 | 1 | AAACAAGGGATCAAAT-1_1 | 1 | 32 | 72 | 8425 | 32857 |\n",
       "| AAACAGCAGTCTGCTA-1_1 | SeuratProject | 1282 | 1256 | 31808 | 15667 |  76 | 239 | 3535 |  7173 | 13 | ⋯ |  795 | 1485 | 220327_C1 | 1 | AAACAGCAGTCTGCTA-1_1 | 1 | 47 | 33 | 6475 | 34162 |\n",
       "| AAACATTCGGGATTCT-1_1 | SeuratProject | 1360 | 1346 | 32228 | 15483 |  54 | 334 | 3816 |  7440 | 15 | ⋯ |  883 | 1630 | 220327_C1 | 1 | AAACATTCGGGATTCT-1_1 | 1 | 47 | 23 | 5975 | 34162 |\n",
       "| AAACCTGGCACACCCT-1_1 | SeuratProject | 2024 | 1975 | 51321 | 25784 |  66 | 442 | 5787 | 10593 | 56 | ⋯ | 1239 | 2313 | 220327_C1 | 1 | AAACCTGGCACACCCT-1_1 | 1 | 22 | 34 | 6525 | 31987 |\n",
       "| AAACGCCGCGTTTCGA-1_1 | SeuratProject |  240 |  240 |  5814 |  2589 |  21 |  56 |  657 |  1587 |  1 | ⋯ |  139 |  260 | 220327_C1 | 1 | AAACGCCGCGTTTCGA-1_1 | 1 | 25 | 93 | 9475 | 32248 |\n",
       "| AAACGCGGCGAAAGTA-1_1 | SeuratProject |  617 |  610 | 15876 |  7621 |  34 | 144 | 1964 |  3731 | 10 | ⋯ |  385 |  703 | 220327_C1 | 1 | AAACGCGGCGAAAGTA-1_1 | 1 | 39 | 91 | 9375 | 33466 |\n",
       "\n"
      ],
      "text/plain": [
       "                     orig.ident    nCount_peaks nFeature_peaks total duplicate\n",
       "AAACAAGGGATCAAAT-1_1 SeuratProject 1639         1602           45222 19934    \n",
       "AAACAGCAGTCTGCTA-1_1 SeuratProject 1282         1256           31808 15667    \n",
       "AAACATTCGGGATTCT-1_1 SeuratProject 1360         1346           32228 15483    \n",
       "AAACCTGGCACACCCT-1_1 SeuratProject 2024         1975           51321 25784    \n",
       "AAACGCCGCGTTTCGA-1_1 SeuratProject  240          240            5814  2589    \n",
       "AAACGCGGCGAAAGTA-1_1 SeuratProject  617          610           15876  7621    \n",
       "                     chimeric unmapped lowmapq mitochondrial nonprimary ⋯\n",
       "AAACAAGGGATCAAAT-1_1 127      445      5367    12977         17         ⋯\n",
       "AAACAGCAGTCTGCTA-1_1  76      239      3535     7173         13         ⋯\n",
       "AAACATTCGGGATTCT-1_1  54      334      3816     7440         15         ⋯\n",
       "AAACCTGGCACACCCT-1_1  66      442      5787    10593         56         ⋯\n",
       "AAACGCCGCGTTTCGA-1_1  21       56       657     1587          1         ⋯\n",
       "AAACGCGGCGAAAGTA-1_1  34      144      1964     3731         10         ⋯\n",
       "                     peak_region_fragments peak_region_cutsites section  \n",
       "AAACAAGGGATCAAAT-1_1 1033                  1896                 220327_C1\n",
       "AAACAGCAGTCTGCTA-1_1  795                  1485                 220327_C1\n",
       "AAACATTCGGGATTCT-1_1  883                  1630                 220327_C1\n",
       "AAACCTGGCACACCCT-1_1 1239                  2313                 220327_C1\n",
       "AAACGCCGCGTTTCGA-1_1  139                   260                 220327_C1\n",
       "AAACGCGGCGAAAGTA-1_1  385                   703                 220327_C1\n",
       "                     sample barcode              tissue y  x  pixel_y pixel_x\n",
       "AAACAAGGGATCAAAT-1_1 1      AAACAAGGGATCAAAT-1_1 1      32 72 8425    32857  \n",
       "AAACAGCAGTCTGCTA-1_1 1      AAACAGCAGTCTGCTA-1_1 1      47 33 6475    34162  \n",
       "AAACATTCGGGATTCT-1_1 1      AAACATTCGGGATTCT-1_1 1      47 23 5975    34162  \n",
       "AAACCTGGCACACCCT-1_1 1      AAACCTGGCACACCCT-1_1 1      22 34 6525    31987  \n",
       "AAACGCCGCGTTTCGA-1_1 1      AAACGCCGCGTTTCGA-1_1 1      25 93 9475    32248  \n",
       "AAACGCGGCGAAAGTA-1_1 1      AAACGCGGCGAAAGTA-1_1 1      39 91 9375    33466  "
      ]
     },
     "metadata": {},
     "output_type": "display_data"
    }
   ],
   "source": [
    "head(combined@meta.data)"
   ]
  },
  {
   "cell_type": "code",
   "execution_count": null,
   "metadata": {
    "vscode": {
     "languageId": "r"
    }
   },
   "outputs": [
    {
     "name": "stderr",
     "output_type": "stream",
     "text": [
      "Computing hash\n",
      "\n",
      "Warning message in CreateChromatinAssay(counts_matrix, fragments = frag_obj):\n",
      "\"Overlapping ranges supplied. Ranges should be non-overlapping.\"\n"
     ]
    },
    {
     "ename": "ERROR",
     "evalue": "Error in CreateChromatinAssay(counts_matrix, fragments = frag_obj): No cells retained due to minimum feature cutoff supplied\n",
     "output_type": "error",
     "traceback": [
      "Error in CreateChromatinAssay(counts_matrix, fragments = frag_obj): No cells retained due to minimum feature cutoff supplied\nTraceback:\n",
      "1. stop(\"No cells retained due to minimum feature cutoff supplied\")",
      "2. .handleSimpleError(function (cnd) \n . {\n .     watcher$capture_plot_and_output()\n .     cnd <- sanitize_call(cnd)\n .     watcher$push(cnd)\n .     switch(on_error, continue = invokeRestart(\"eval_continue\"), \n .         stop = invokeRestart(\"eval_stop\"), error = NULL)\n . }, \"No cells retained due to minimum feature cutoff supplied\", \n .     base::quote(CreateChromatinAssay(counts_matrix, fragments = frag_obj)))"
     ]
    }
   ],
   "source": [
    "# # Set Paths\n",
    "# PATH_TO_sATAC_DATA_FOLDER <- \"../data/spatial_atac/\"\n",
    "# SAMPLE_NAME <- \"220327_C1\"\n",
    "\n",
    "# # Create Paths for the Sample\n",
    "# infoTable <- data.frame(\n",
    "#   singlecell = paste0(PATH_TO_sATAC_DATA_FOLDER, \"outs/\", SAMPLE_NAME, \"/singlecell.csv\"),\n",
    "#   fragments = paste0(PATH_TO_sATAC_DATA_FOLDER, \"outs/\", SAMPLE_NAME, \"/fragments.tsv.gz\"),\n",
    "#   tissue_paths = paste0(PATH_TO_sATAC_DATA_FOLDER, \"github_folder/meta/\", SAMPLE_NAME, \"_tissue.tsv\"),\n",
    "#   spotfiles = paste0(PATH_TO_sATAC_DATA_FOLDER, \"github_folder/meta/\", SAMPLE_NAME, \"_tissue.csv\"),\n",
    "#   stringsAsFactors = FALSE\n",
    "# )\n",
    "\n",
    "# # Load Metadata\n",
    "# if (!file.exists(infoTable$singlecell)) stop(\"File not found: \", infoTable$singlecell)\n",
    "# md <- read.table(infoTable$singlecell, sep = \",\", header = TRUE, row.names = 1)[-1, ]  # Remove NO_BARCODE row\n",
    "\n",
    "# # Create Fragment Object\n",
    "# if (!file.exists(infoTable$fragments)) stop(\"File not found: \", infoTable$fragments)\n",
    "# frag_obj <- CreateFragmentObject(path = infoTable$fragments, cells = rownames(md))\n",
    "\n",
    "# # Load Peak Counts (from your .h5 file)\n",
    "# counts_matrix <- Read10X_h5(paste0(PATH_TO_sATAC_DATA_FOLDER, \"combined/counts_brca_satac.h5\"))\n",
    "\n",
    "# # Ensure Only the Current Sample's Data is Used\n",
    "# counts_matrix <- counts_matrix[, colnames(counts_matrix) %in% rownames(md)]\n",
    "\n",
    "# # Create Chromatin Assay\n",
    "# assay <- CreateChromatinAssay(counts_matrix, fragments = frag_obj)\n",
    "\n",
    "# # Create Signac Object\n",
    "# signac_object <- CreateSeuratObject(assay, assay = \"peaks\", meta.data = md)\n",
    "\n",
    "# # Add Sample Name\n",
    "# signac_object$section <- SAMPLE_NAME\n",
    "# signac_object$sample <- SAMPLE_NAME\n",
    "\n",
    "# # Normalize and Reduce Dimensions\n",
    "# signac_object <- FindTopFeatures(signac_object, min.cutoff = 10)\n",
    "# signac_object <- RunTFIDF(signac_object)\n",
    "# signac_object <- RunSVD(signac_object)\n",
    "\n",
    "# # Save Processed Object\n",
    "# saveRDS(signac_object, paste0(SAMPLE_NAME, \"_signac_object.rds\"))\n",
    "\n",
    "# # Print Summary\n",
    "# print(signac_object)\n"
   ]
  },
  {
   "cell_type": "code",
   "execution_count": 12,
   "metadata": {
    "vscode": {
     "languageId": "r"
    }
   },
   "outputs": [],
   "source": [
    "# BRCA_PEAK_CALLS <- paste0(PATH_TO_sATAC_DATA_FOLDER, \"github_folder/meta/BRCA_peakCalls.csv\")\n",
    "\n",
    "# gr <- read.csv(\n",
    "#   file = BRCA_PEAK_CALLS,\n",
    "#   col.names = c(\"chr\", \"start\", \"end\"),\n",
    "#   sep = \";\"\n",
    "# ) %>% makeGRangesFromDataFrame()"
   ]
  },
  {
   "cell_type": "code",
   "execution_count": 13,
   "metadata": {
    "vscode": {
     "languageId": "r"
    }
   },
   "outputs": [],
   "source": [
    "# gr[0:5]"
   ]
  },
  {
   "cell_type": "code",
   "execution_count": 14,
   "metadata": {
    "vscode": {
     "languageId": "r"
    }
   },
   "outputs": [],
   "source": [
    "# # create fragment objects and count matrices for each section separately\n",
    "# i <- sATAC_SAMPLE_NAME\n",
    "# i\n",
    "\n",
    "# folder = paste0(PATH_TO_sATAC_DATA_FOLDER, \"combined/\")\n",
    "# # load metadata\n",
    "# object$md[[i]] <- read.table(\n",
    "# file = infoTable$singlecell[i],\n",
    "# stringsAsFactors = FALSE,\n",
    "# sep = \",\",\n",
    "# header = TRUE,\n",
    "# row.names = 1\n",
    "# )[-1, ] # remove the first row (NO_BARCODE)\n",
    "\n",
    "# # create fragment objects\n",
    "# object$frag[[i]] <- CreateFragmentObject(\n",
    "# path = infoTable$fragments[i],\n",
    "# cells = rownames(object$md[[i]])\n",
    "# )\n",
    "\n",
    "# if (file.exists(paste0(folder, \"brca_peak_bc_matrix.h5\"))) {\n",
    "# message(\"File exists.\")\n",
    "# object$counts[[i]] <- Read10X_h5(paste0(folder, \"brca_peak_bc_matrix.h5\"))\n",
    "\n",
    "# } else {\n",
    "\n",
    "# # make count matrix\n",
    "# object$counts[[i]] <- FeatureMatrix(\n",
    "#     fragments = object$frag[[i]],\n",
    "#     features = gr,\n",
    "#     cells = rownames(object$md[[i]])\n",
    "# )\n",
    "\n",
    "# write10xCounts(path = paste0(folder, \"brca_peak_bc_matrix.h5\"),\n",
    "#                 x = object$counts[[i]],\n",
    "#                 type = \"HDF5\") # save new count matrix\n",
    "# }\n"
   ]
  },
  {
   "cell_type": "code",
   "execution_count": 15,
   "metadata": {
    "vscode": {
     "languageId": "r"
    }
   },
   "outputs": [],
   "source": [
    "# # create fragment objects and count matrices for each section separately\n",
    "# for(i in seq_along(list(sATAC_SAMPLE_NAME))){\n",
    "#   folder = paste0(PATH_TO_sATAC_DATA_FOLDER, \"combined/\")\n",
    "#   # load metadata\n",
    "#   object$md[[i]] <- read.table(\n",
    "#     file = infoTable$singlecell[i],\n",
    "#     stringsAsFactors = FALSE,\n",
    "#     sep = \",\",\n",
    "#     header = TRUE,\n",
    "#     row.names = 1\n",
    "#   )[-1, ] # remove the first row (NO_BARCODE)\n",
    "  \n",
    "#   # create fragment objects\n",
    "#   object$frag[[i]] <- CreateFragmentObject(\n",
    "#     path = infoTable$fragments[i],\n",
    "#     cells = rownames(object$md[[i]])\n",
    "#   )\n",
    "  \n",
    "#   if (file.exists(paste0(folder, \"brca_peak_bc_matrix.h5\"))) {\n",
    "#     message(\"File exists.\")\n",
    "#     object$counts[[i]] <- Read10X_h5(paste0(folder, \"brca_peak_bc_matrix.h5\"))\n",
    "    \n",
    "#   } else {\n",
    "    \n",
    "#     # make count matrix\n",
    "#     object$counts[[i]] <- FeatureMatrix(\n",
    "#       fragments = object$frag[[i]],\n",
    "#       features = gr,\n",
    "#       cells = rownames(object$md[[i]])\n",
    "#     )\n",
    "    \n",
    "#     write10xCounts(path = paste0(folder, \"brca_peak_bc_matrix.h5\"),\n",
    "#                    x = object$counts[[i]],\n",
    "#                    type = \"HDF5\") # save new count matrix\n",
    "#   }\n",
    "  \n",
    "# }"
   ]
  }
 ],
 "metadata": {
  "kernelspec": {
   "display_name": "R",
   "language": "R",
   "name": "ir"
  },
  "language_info": {
   "codemirror_mode": "r",
   "file_extension": ".r",
   "mimetype": "text/x-r-source",
   "name": "R",
   "pygments_lexer": "r",
   "version": "4.4.2"
  }
 },
 "nbformat": 4,
 "nbformat_minor": 2
}
