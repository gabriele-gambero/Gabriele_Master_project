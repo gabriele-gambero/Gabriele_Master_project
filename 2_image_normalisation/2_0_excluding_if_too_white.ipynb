{
 "cells": [
  {
   "cell_type": "code",
   "execution_count": null,
   "metadata": {},
   "outputs": [],
   "source": [
    "from PIL import Image\n",
    "import numpy as np\n",
    "\n",
    "def calculate_white_percentage(image_path, reference_color, tolerance=50):\n",
    "    \"\"\"\n",
    "    Calculates the percentage of pixels in an image that match a reference color within a tolerance range.\n",
    "\n",
    "    Parameters:\n",
    "    - image_path: Path to the image.\n",
    "    - reference_color: Reference RGB color as a list or array, e.g., [214, 207, 210].\n",
    "    - tolerance: Allowed difference between the pixel and the reference color. Default is 50.\n",
    "\n",
    "    Returns:\n",
    "    - Percentage of white-like pixels in the image.\n",
    "    \"\"\"\n",
    "    # Load the image and convert to a NumPy array\n",
    "    img = Image.open(image_path).convert(\"RGB\")\n",
    "    img_array = np.array(img)\n",
    "\n",
    "    # Calculate the absolute difference from the reference color\n",
    "    diff = np.abs(img_array - reference_color)\n",
    "\n",
    "    # Find pixels that match the reference color within the tolerance\n",
    "    matches = np.all(diff <= tolerance, axis=-1)\n",
    "\n",
    "    # Calculate the percentage of matching pixels\n",
    "    match_percentage = np.sum(matches) / matches.size * 100\n",
    "    return match_percentage\n"
   ]
  },
  {
   "cell_type": "code",
   "execution_count": null,
   "metadata": {},
   "outputs": [],
   "source": [
    "# Example usage\n",
    "image_path = \"/mnt/data/GGACTGCATACCGGTT_row32_col0_100um.jpg\"\n",
    "reference_color = [214, 207, 210]  # Average RGB of the near-white color\n",
    "tolerance = 30  # Adjust this as needed\n",
    "percentage = calculate_white_percentage(image_path, reference_color, tolerance)\n",
    "\n",
    "print(f\"Percentage of white-like pixels: {percentage:.2f}%\")\n"
   ]
  }
 ],
 "metadata": {
  "kernelspec": {
   "display_name": "base",
   "language": "python",
   "name": "python3"
  },
  "language_info": {
   "name": "python",
   "version": "3.12.2"
  }
 },
 "nbformat": 4,
 "nbformat_minor": 2
}
